{
 "cells": [
  {
   "cell_type": "code",
   "execution_count": 116,
   "id": "f5ec7e74",
   "metadata": {},
   "outputs": [],
   "source": [
    "import boto3\n",
    "from botocore.config import Config\n",
    "import sys\n",
    "import os\n",
    "\n"
   ]
  },
  {
   "cell_type": "code",
   "execution_count": 117,
   "id": "c4195733",
   "metadata": {},
   "outputs": [],
   "source": [
    "ohio_region  = Config(region_name=\"us-east-2\")\n",
    "north_virginia_region  = Config(region_name=\"us-east-1\")"
   ]
  },
  {
   "cell_type": "code",
   "execution_count": 118,
   "id": "7f45f36d",
   "metadata": {},
   "outputs": [],
   "source": [
    "ohio_ec2 = boto3.resource('ec2', config=ohio_region)\n",
    "north_virginia_ec2 = boto3.resource('ec2', config=north_virginia_region)"
   ]
  },
  {
   "cell_type": "code",
   "execution_count": 119,
   "id": "a4602704",
   "metadata": {},
   "outputs": [],
   "source": [
    "script_postgres = '''#!/bin/bash\n",
    "sudo apt update\n",
    "sudo apt install postgresql postgresql-contrib -y\n",
    "sudo -i -u postgres bash << EOF\n",
    "createuser -s cloud -W\n",
    "cloud\n",
    "createdb -O cloud tasks\n",
    "echo \"listen_addresses = '*'\" >>  /etc/postgresql/12/main/postgresql.conf\n",
    "echo \"host all all 0.0.0.0/0 trust\" >> /etc/postgresql/12/main/pg_hba.conf\n",
    "EOF\n",
    "sudo ufw allow 5432/tcp\n",
    "sudo systemctl restart postgresql'''"
   ]
  },
  {
   "cell_type": "code",
   "execution_count": 120,
   "id": "c3fd715c",
   "metadata": {},
   "outputs": [],
   "source": [
    "# security_group = ohio_ec2.create_security_group(\n",
    "#     Description='string',\n",
    "#     GroupName='SecGroup',\n",
    "#     TagSpecifications=[\n",
    "#         {\n",
    "#             'ResourceType': 'security-group',\n",
    "#             'Tags': [\n",
    "#                 {\n",
    "#                     'Key': 'Name',\n",
    "#                     'Value': 'postgres'\n",
    "#                 },\n",
    "#             ]\n",
    "#         },\n",
    "#     ],\n",
    "# )\n",
    "\n",
    "\n",
    "\n",
    "\n",
    "# security_group.authorize_ingress(IpProtocol=\"tcp\",CidrIp=\"0.0.0.0/0\",FromPort=0,ToPort=1000)\n",
    "\n",
    "# security_group2 = north_virginia_ec2.create_security_group(\n",
    "#     Description='string',\n",
    "#     GroupName='SecGroup',\n",
    "#     TagSpecifications=[\n",
    "#         {\n",
    "#             'ResourceType': 'security-group',\n",
    "#             'Tags': [\n",
    "#                 {\n",
    "#                     'Key': 'Name',\n",
    "#                     'Value': 'postgres'\n",
    "#                 },\n",
    "#             ]\n",
    "#         },\n",
    "#     ],\n",
    "# )\n",
    "\n",
    "\n",
    "\n",
    "\n",
    "#security_group2.authorize_ingress(IpProtocol=\"tcp\",CidrIp=\"0.0.0.0/0\",FromPort=0,ToPort=1200)\n"
   ]
  },
  {
   "cell_type": "code",
   "execution_count": 121,
   "id": "b7e1bc14",
   "metadata": {},
   "outputs": [],
   "source": [
    "instance_ohio = ohio_ec2.create_instances(\n",
    "        ImageId=\"ami-00399ec92321828f5\",\n",
    "        MinCount=1,\n",
    "        MaxCount=1,\n",
    "        InstanceType=\"t2.micro\",\n",
    "        KeyName=\"jpgianfaldoni\",\n",
    "        SecurityGroupIds = [security_group.group_id],\n",
    "        UserData = script_postgres\n",
    "    )\n",
    "\n"
   ]
  },
  {
   "cell_type": "code",
   "execution_count": 124,
   "id": "8f74079f",
   "metadata": {},
   "outputs": [],
   "source": [
    "instance_ohio[0].wait_until_running()\n",
    "instance_ohio[0].reload()\n",
    "public_ip_postgres = instance_ohio[0].public_ip_address\n"
   ]
  },
  {
   "cell_type": "code",
   "execution_count": 125,
   "id": "fb4c19b6",
   "metadata": {},
   "outputs": [
    {
     "name": "stdout",
     "output_type": "stream",
     "text": [
      "18.222.176.17\n"
     ]
    }
   ],
   "source": [
    "print(public_ip_postgres)"
   ]
  },
  {
   "cell_type": "code",
   "execution_count": 132,
   "id": "fffefe1a",
   "metadata": {},
   "outputs": [],
   "source": [
    "script_django = f'''#!/bin/bash\n",
    "sudo apt update\n",
    "git clone https://github.com/raulikeda/tasks.git\n",
    "cd tasks\n",
    "cd portfolio\n",
    "sudo sed -i 's/node1/{public_ip_postgres}/g' settings.py\n",
    "./install.sh\n",
    "'''"
   ]
  },
  {
   "cell_type": "code",
   "execution_count": 133,
   "id": "a6da6897",
   "metadata": {},
   "outputs": [],
   "source": [
    "north_virginia = north_virginia_ec2.create_instances(\n",
    "        ImageId=\"ami-09e67e426f25ce0d7\",\n",
    "        MinCount=1,\n",
    "        MaxCount=1,\n",
    "        InstanceType=\"t2.micro\",\n",
    "        KeyName=\"jpgianfaldoni\",\n",
    "        SecurityGroupIds = [security_group2.group_id],\n",
    "        UserData = script_django\n",
    "    )"
   ]
  },
  {
   "cell_type": "code",
   "execution_count": null,
   "id": "7d94d773",
   "metadata": {},
   "outputs": [],
   "source": []
  }
 ],
 "metadata": {
  "kernelspec": {
   "display_name": "Python 3 (ipykernel)",
   "language": "python",
   "name": "python3"
  },
  "language_info": {
   "codemirror_mode": {
    "name": "ipython",
    "version": 3
   },
   "file_extension": ".py",
   "mimetype": "text/x-python",
   "name": "python",
   "nbconvert_exporter": "python",
   "pygments_lexer": "ipython3",
   "version": "3.7.1"
  }
 },
 "nbformat": 4,
 "nbformat_minor": 5
}
