{
 "cells": [
  {
   "cell_type": "code",
   "execution_count": 33,
   "metadata": {},
   "outputs": [],
   "source": [
    "import boto3\n",
    "from botocore.config import Config\n",
    "import sys\n",
    "import os\n",
    "import time\n",
    "import requests\n",
    "from bs4 import BeautifulSoup\n"
   ]
  },
  {
   "cell_type": "code",
   "execution_count": 34,
   "metadata": {},
   "outputs": [],
   "source": [
    "ohio_region  = Config(region_name=\"us-east-2\")\n",
    "north_virginia_region  = Config(region_name=\"us-east-1\")"
   ]
  },
  {
   "cell_type": "code",
   "execution_count": 35,
   "metadata": {},
   "outputs": [],
   "source": [
    "ohio_ec2 = boto3.resource('ec2', config=ohio_region)\n",
    "north_virginia_ec2 = boto3.resource('ec2', config=north_virginia_region)"
   ]
  },
  {
   "cell_type": "code",
   "execution_count": 36,
   "metadata": {},
   "outputs": [],
   "source": [
    "script_postgres = '''#!/bin/bash\n",
    "sudo apt update\n",
    "sudo apt install postgresql postgresql-contrib -y\n",
    "sudo -i -u postgres bash << EOF\n",
    "createuser -s cloud -W\n",
    "cloud\n",
    "createdb -O cloud tasks\n",
    "echo \"listen_addresses = '*'\" >>  /etc/postgresql/12/main/postgresql.conf\n",
    "echo \"host all all 0.0.0.0/0 trust\" >> /etc/postgresql/12/main/pg_hba.conf\n",
    "EOF\n",
    "sudo ufw allow 5432/tcp\n",
    "sudo systemctl restart postgresql'''\n",
    "\n"
   ]
  },
  {
   "cell_type": "code",
   "execution_count": 37,
   "metadata": {},
   "outputs": [],
   "source": [
    "script_mysql = '''#!/bin/bash\n",
    "sudo apt update\n",
    "sudo apt install mysql-server -y\n",
    "sudo mysql -uroot -e \"ALTER USER 'root'@'localhost' IDENTIFIED WITH mysql_native_password BY 'cloud';CREATE USER 'root'@'%' IDENTIFIED BY 'cloud';GRANT ALL PRIVILEGES ON *.* TO 'root'@'%';FLUSH PRIVILEGES;CREATE DATABASE tasks;\"\n",
    "sudo sed -i 's/bind-address/#banana/g' /etc/mysql/mysql.conf.d/mysqld.cnf\n",
    "sudo sed -i 's/mysqlx/#banana/g' /etc/mysql/mysql.conf.d/mysqld.cnf\n",
    "sudo ufw allow 3306/tcp\n",
    "sudo systemctl restart mysql\n",
    "'''\n"
   ]
  },
  {
   "cell_type": "code",
   "execution_count": 38,
   "metadata": {},
   "outputs": [],
   "source": [
    "security_group_iterator = ohio_ec2.security_groups.all()"
   ]
  },
  {
   "cell_type": "code",
   "execution_count": 40,
   "metadata": {},
   "outputs": [
    {
     "data": {
      "text/plain": [
       "{'Return': True,\n",
       " 'SecurityGroupRules': [{'SecurityGroupRuleId': 'sgr-07cd720760aac2091',\n",
       "   'GroupId': 'sg-0b642c6ada285968b',\n",
       "   'GroupOwnerId': '903616414837',\n",
       "   'IsEgress': False,\n",
       "   'IpProtocol': 'tcp',\n",
       "   'FromPort': 0,\n",
       "   'ToPort': 10000,\n",
       "   'CidrIpv4': '0.0.0.0/0'}],\n",
       " 'ResponseMetadata': {'RequestId': 'a9743144-8fdd-4d2e-a003-a6aa0669f2e7',\n",
       "  'HTTPStatusCode': 200,\n",
       "  'HTTPHeaders': {'x-amzn-requestid': 'a9743144-8fdd-4d2e-a003-a6aa0669f2e7',\n",
       "   'cache-control': 'no-cache, no-store',\n",
       "   'strict-transport-security': 'max-age=31536000; includeSubDomains',\n",
       "   'content-type': 'text/xml;charset=UTF-8',\n",
       "   'content-length': '721',\n",
       "   'date': 'Wed, 17 Nov 2021 16:39:06 GMT',\n",
       "   'server': 'AmazonEC2'},\n",
       "  'RetryAttempts': 0}}"
      ]
     },
     "execution_count": 40,
     "metadata": {},
     "output_type": "execute_result"
    }
   ],
   "source": [
    "security_group = ohio_ec2.create_security_group(\n",
    "    Description='string',\n",
    "    GroupName='SecurityGroup2',\n",
    "    TagSpecifications=[\n",
    "        {\n",
    "            'ResourceType': 'security-group',\n",
    "            'Tags': [\n",
    "                {\n",
    "                    'Key': 'Name',\n",
    "                    'Value': 'mysql'\n",
    "                },\n",
    "            ]\n",
    "        },\n",
    "    ],\n",
    ")\n",
    "\n",
    "\n",
    "\n",
    "\n",
    "security_group.authorize_ingress(IpProtocol=\"tcp\",CidrIp=\"0.0.0.0/0\",FromPort=0,ToPort=10000)\n",
    "\n",
    "security_group2 = north_virginia_ec2.create_security_group(\n",
    "    Description='string',\n",
    "    GroupName='SecurityGroup2',\n",
    "    TagSpecifications=[\n",
    "        {\n",
    "            'ResourceType': 'security-group',\n",
    "            'Tags': [\n",
    "                {\n",
    "                    'Key': 'Name',\n",
    "                    'Value': 'mysql'\n",
    "                },\n",
    "            ]\n",
    "        },\n",
    "    ],\n",
    ")\n",
    "\n",
    "\n",
    "\n",
    "\n",
    "security_group2.authorize_ingress(IpProtocol=\"tcp\",CidrIp=\"0.0.0.0/0\",FromPort=0,ToPort=10000)\n"
   ]
  },
  {
   "cell_type": "code",
   "execution_count": 41,
   "metadata": {},
   "outputs": [],
   "source": [
    "instance_ohio = ohio_ec2.create_instances(\n",
    "        ImageId=\"ami-00399ec92321828f5\",\n",
    "        MinCount=1,\n",
    "        MaxCount=1,\n",
    "        InstanceType=\"t2.micro\",\n",
    "        KeyName=\"jpgianfaldoni\",\n",
    "        SecurityGroupIds = [security_group.group_id],\n",
    "        UserData = script_mysql\n",
    "    )\n",
    "\n"
   ]
  },
  {
   "cell_type": "code",
   "execution_count": 42,
   "metadata": {},
   "outputs": [],
   "source": [
    "instance_ohio[0].wait_until_running()\n",
    "instance_ohio[0].reload()\n",
    "public_ip_ohio = instance_ohio[0].public_ip_address\n",
    "time.sleep(60)"
   ]
  },
  {
   "cell_type": "code",
   "execution_count": 43,
   "metadata": {},
   "outputs": [
    {
     "name": "stdout",
     "output_type": "stream",
     "text": [
      "3.144.173.4\n"
     ]
    }
   ],
   "source": [
    "print(public_ip_ohio)"
   ]
  },
  {
   "cell_type": "code",
   "execution_count": 51,
   "metadata": {},
   "outputs": [],
   "source": [
    "script_django_mysql = f\"\"\"#!/bin/bash\n",
    "cd /home/ubuntu\n",
    "sudo apt update\n",
    "sudo apt-get install python3-dev default-libmysqlclient-dev build-essential -y\n",
    "git clone https://github.com/raulikeda/tasks.git\n",
    "cd tasks\n",
    "sudo sed -i 's/node1/{public_ip_ohio}/g' portfolio/settings.py\n",
    "sudo sed -i 's/django.db.backends.postgresql/django.db.backends.mysql/g' portfolio/settings.py\n",
    "sudo sed -i 's/5432/3306/g' portfolio/settings.py\n",
    "sudo sed -i \"s/'USER': 'cloud'/'USER': 'root'/g\" portfolio/settings.py\n",
    "echo \"mysqlclient\" >> requirements.txt\n",
    "./install.sh\n",
    "sudo reboot \n",
    "\"\"\""
   ]
  },
  {
   "cell_type": "code",
   "execution_count": 52,
   "metadata": {},
   "outputs": [],
   "source": [
    "north_virginia = north_virginia_ec2.create_instances(\n",
    "        ImageId=\"ami-09e67e426f25ce0d7\",\n",
    "        MinCount=1,\n",
    "        MaxCount=1,\n",
    "        InstanceType=\"t2.micro\",\n",
    "        KeyName=\"jpgianfaldoni\",\n",
    "        SecurityGroupIds = [security_group2.group_id],\n",
    "        UserData = script_django_mysql\n",
    "    )"
   ]
  },
  {
   "cell_type": "code",
   "execution_count": 54,
   "metadata": {},
   "outputs": [],
   "source": [
    "north_virginia[0].wait_until_running()\n",
    "north_virginia[0].reload()\n",
    "#time.sleep(60)"
   ]
  },
  {
   "cell_type": "code",
   "execution_count": 55,
   "metadata": {},
   "outputs": [],
   "source": [
    "django_img = north_virginia[0].create_image(Name='django_img3')\n"
   ]
  },
  {
   "cell_type": "code",
   "execution_count": 56,
   "metadata": {},
   "outputs": [
    {
     "name": "stdout",
     "output_type": "stream",
     "text": [
      "pending\n"
     ]
    }
   ],
   "source": [
    "print(django_img.state)\n",
    "django_img.reload()"
   ]
  },
  {
   "cell_type": "code",
   "execution_count": 57,
   "metadata": {},
   "outputs": [
    {
     "data": {
      "text/plain": [
       "{'TerminatingInstances': [{'CurrentState': {'Code': 32,\n",
       "    'Name': 'shutting-down'},\n",
       "   'InstanceId': 'i-0b9a70e208a0a29b6',\n",
       "   'PreviousState': {'Code': 16, 'Name': 'running'}}],\n",
       " 'ResponseMetadata': {'RequestId': 'c5bcbb80-010a-489b-9fea-c3639a8e76db',\n",
       "  'HTTPStatusCode': 200,\n",
       "  'HTTPHeaders': {'x-amzn-requestid': 'c5bcbb80-010a-489b-9fea-c3639a8e76db',\n",
       "   'cache-control': 'no-cache, no-store',\n",
       "   'strict-transport-security': 'max-age=31536000; includeSubDomains',\n",
       "   'vary': 'accept-encoding',\n",
       "   'content-type': 'text/xml;charset=UTF-8',\n",
       "   'transfer-encoding': 'chunked',\n",
       "   'date': 'Wed, 17 Nov 2021 17:00:34 GMT',\n",
       "   'server': 'AmazonEC2'},\n",
       "  'RetryAttempts': 0}}"
      ]
     },
     "execution_count": 57,
     "metadata": {},
     "output_type": "execute_result"
    }
   ],
   "source": [
    "while django_img.state != 'available':\n",
    "    django_img.reload()\n",
    "north_virginia[0].terminate()"
   ]
  },
  {
   "cell_type": "code",
   "execution_count": 58,
   "metadata": {},
   "outputs": [
    {
     "name": "stdout",
     "output_type": "stream",
     "text": [
      "available\n"
     ]
    }
   ],
   "source": [
    "print(django_img.state)\n"
   ]
  },
  {
   "cell_type": "code",
   "execution_count": 59,
   "metadata": {},
   "outputs": [],
   "source": [
    "autoscaling  = boto3.client('autoscaling', config=north_virginia_region)\n",
    "elb = boto3.client('elbv2', config=north_virginia_region)\n"
   ]
  },
  {
   "cell_type": "code",
   "execution_count": 106,
   "metadata": {},
   "outputs": [],
   "source": [
    "create_launch_response = autoscaling.create_launch_configuration(\n",
    "    LaunchConfigurationName='LCV999',\n",
    "    ImageId= django_img.id,\n",
    "    KeyName='jpgianfaldoni',\n",
    "    SecurityGroups=[\n",
    "        security_group2.id,\n",
    "    ],\n",
    "    BlockDeviceMappings=[\n",
    "                        {\n",
    "                            'DeviceName': '/dev/sda1',\n",
    "                            'Ebs': {\n",
    "                                'DeleteOnTermination': True,\n",
    "                                'VolumeSize': 8,\n",
    "                                'VolumeType': 'gp2'\n",
    "                            },\n",
    "                        },\n",
    "                ],\n",
    "    InstanceType='t2.micro',\n",
    "    \n",
    ")\n"
   ]
  },
  {
   "cell_type": "code",
   "execution_count": 109,
   "metadata": {},
   "outputs": [],
   "source": [
    "create_autoscaling_response = autoscaling.create_auto_scaling_group(\n",
    "    AutoScalingGroupName='AutoScalingV1',\n",
    "    LaunchConfigurationName='LCV999',\n",
    "    MinSize=1,\n",
    "    MaxSize=3,\n",
    "    DesiredCapacity=3,\n",
    "    DefaultCooldown=60,\n",
    "    AvailabilityZones=[\n",
    "        'us-east-1a',\n",
    "        'us-east-1b',\n",
    "        'us-east-1c',\n",
    "        'us-east-1d',\n",
    "        'us-east-1e',\n",
    "        'us-east-1f',\n",
    "    ]\n",
    ")"
   ]
  },
  {
   "cell_type": "code",
   "execution_count": 110,
   "metadata": {},
   "outputs": [],
   "source": [
    "create_target_response = elb.create_target_group(\n",
    "    Name='Tgroup5',\n",
    "    Protocol='HTTP',\n",
    "    Port=8080,\n",
    "    VpcId='vpc-ebd11591',\n",
    "    HealthCheckPath = '/tasks/',\n",
    "    HealthCheckProtocol='HTTP',\n",
    "    HealthCheckEnabled=True,\n",
    "    HealthCheckIntervalSeconds=30,\n",
    "    HealthCheckTimeoutSeconds=15,\n",
    "    HealthyThresholdCount=5,\n",
    "    UnhealthyThresholdCount=5,\n",
    "    TargetType='instance',\n",
    "    IpAddressType='ipv4'\n",
    ")"
   ]
  },
  {
   "cell_type": "code",
   "execution_count": 111,
   "metadata": {},
   "outputs": [],
   "source": [
    "tg_arn = create_target_response['TargetGroups'][0]['TargetGroupArn']"
   ]
  },
  {
   "cell_type": "code",
   "execution_count": 112,
   "metadata": {},
   "outputs": [],
   "source": [
    "create_lb_response = elb.create_load_balancer(\n",
    "    Name='Elb3',\n",
    "    Subnets=[\n",
    "        'subnet-54296d1e',\n",
    "        'subnet-7ebe0d50',\n",
    "        'subnet-13fa4b4f',\n",
    "        'subnet-e0f44387',\n",
    "    ],\n",
    "\n",
    "    SecurityGroups=[\n",
    "        security_group2.id,\n",
    "    ],\n",
    "    Type='application',\n",
    "    IpAddressType='ipv4',\n",
    ")"
   ]
  },
  {
   "cell_type": "code",
   "execution_count": 113,
   "metadata": {},
   "outputs": [],
   "source": [
    "lb_arn = create_lb_response['LoadBalancers'][0]['LoadBalancerArn']"
   ]
  },
  {
   "cell_type": "code",
   "execution_count": 114,
   "metadata": {},
   "outputs": [],
   "source": [
    "ab_response = autoscaling.attach_load_balancer_target_groups(\n",
    "    AutoScalingGroupName='AutoScalingV1',\n",
    "    TargetGroupARNs=[\n",
    "        tg_arn,\n",
    "    ]\n",
    ")"
   ]
  },
  {
   "cell_type": "code",
   "execution_count": 115,
   "metadata": {},
   "outputs": [],
   "source": [
    "listener_response = elb.create_listener(\n",
    "    LoadBalancerArn= lb_arn,\n",
    "    DefaultActions=[\n",
    "        {\n",
    "            'Type': 'forward',\n",
    "            'TargetGroupArn': tg_arn,\n",
    "        },\n",
    "    ],\n",
    "    Port = 80,\n",
    "    Protocol = 'HTTP',\n",
    ")"
   ]
  },
  {
   "cell_type": "code",
   "execution_count": 116,
   "metadata": {},
   "outputs": [
    {
     "data": {
      "text/plain": [
       "'Elb3-1870221194.us-east-1.elb.amazonaws.com'"
      ]
     },
     "execution_count": 116,
     "metadata": {},
     "output_type": "execute_result"
    }
   ],
   "source": [
    "lb_url = create_lb_response['LoadBalancers'][0]['DNSName']\n",
    "lb_url"
   ]
  },
  {
   "cell_type": "code",
   "execution_count": 117,
   "metadata": {},
   "outputs": [],
   "source": [
    "URL = f'http://{lb_url}/admin/login/?next=/admin/'"
   ]
  },
  {
   "cell_type": "code",
   "execution_count": 118,
   "metadata": {},
   "outputs": [
    {
     "data": {
      "text/plain": [
       "'http://Elb3-1870221194.us-east-1.elb.amazonaws.com/admin/login/?next=/admin/'"
      ]
     },
     "execution_count": 118,
     "metadata": {},
     "output_type": "execute_result"
    }
   ],
   "source": [
    "URL"
   ]
  },
  {
   "cell_type": "code",
   "execution_count": 180,
   "metadata": {},
   "outputs": [
    {
     "name": "stdout",
     "output_type": "stream",
     "text": [
      "{'sessionid': 'h1dkit23upd3pyaslj4h3x9by6jh9isg'}\n"
     ]
    }
   ],
   "source": [
    "client = requests.session()\n",
    "\n",
    "client.get(URL) \n",
    "\n",
    "csrftoken = client.cookies['csrftoken']\n",
    "\n",
    "    \n",
    "login_data = dict(username='cloud', password='cloud', csrfmiddlewaretoken=csrftoken, next='/admin/')\n",
    "r = client.post(URL, data=login_data, headers=dict(Referer=URL))\n",
    "cookies = dict(sessionid=client.cookies.get('sessionid'))\n",
    "print(cookies)"
   ]
  },
  {
   "cell_type": "code",
   "execution_count": 182,
   "metadata": {},
   "outputs": [],
   "source": [
    "URL_add = f\"http://{lb_url}/admin/auth/user/add/\"\n"
   ]
  },
  {
   "cell_type": "code",
   "execution_count": 183,
   "metadata": {},
   "outputs": [],
   "source": [
    "def add_user(URL, username, password1, password2,cookies):\n",
    "    client = requests.session()\n",
    "    client.get(URL)  # sets cookie\n",
    "    csrftoken = client.cookies['csrftoken']\n",
    "    post_data = dict(csrfmiddlewaretoken=csrftoken, username=username, password1=password1,\n",
    "                     password2 =password2, _save = \"Save\")\n",
    "    r2 = client.post(URL, data=post_data, headers=dict(Referer=URL), cookies = cookies)\n",
    "    return r2.text\n",
    "    "
   ]
  },
  {
   "cell_type": "code",
   "execution_count": 184,
   "metadata": {
    "scrolled": true
   },
   "outputs": [
    {
     "data": {
      "text/plain": [
       "'<!DOCTYPE html>\\n\\n<html lang=\"en-us\" dir=\"ltr\">\\n<head>\\n<title>TESTECLOUD | Change user | Django site admin</title>\\n<link rel=\"stylesheet\" type=\"text/css\" href=\"/static/admin/css/base.css\">\\n\\n  <link rel=\"stylesheet\" type=\"text/css\" href=\"/static/admin/css/nav_sidebar.css\">\\n  <script src=\"/static/admin/js/nav_sidebar.js\" defer></script>\\n\\n<link rel=\"stylesheet\" type=\"text/css\" href=\"/static/admin/css/forms.css\">\\n\\n\\n<script src=\"/admin/jsi18n/\"></script>\\n<script src=\"/static/admin/js/vendor/jquery/jquery.js\"></script>\\n<script src=\"/static/admin/js/calendar.js\"></script>\\n<script src=\"/static/admin/js/jquery.init.js\"></script>\\n<script src=\"/static/admin/js/admin/DateTimeShortcuts.js\"></script>\\n<script src=\"/static/admin/js/core.js\"></script>\\n<script src=\"/static/admin/js/admin/RelatedObjectLookups.js\"></script>\\n<script src=\"/static/admin/js/SelectBox.js\"></script>\\n<script src=\"/static/admin/js/actions.js\"></script>\\n<script src=\"/static/admin/js/SelectFilter2.js\"></script>\\n<script src=\"/static/admin/js/urlify.js\"></script>\\n<script src=\"/static/admin/js/prepopulate.js\"></script>\\n<script src=\"/static/admin/js/vendor/xregexp/xregexp.js\"></script>\\n\\n\\n    <meta name=\"viewport\" content=\"user-scalable=no, width=device-width, initial-scale=1.0, maximum-scale=1.0\">\\n    <link rel=\"stylesheet\" type=\"text/css\" href=\"/static/admin/css/responsive.css\">\\n    \\n\\n<meta name=\"robots\" content=\"NONE,NOARCHIVE\">\\n</head>\\n\\n\\n<body class=\" app-auth model-user change-form\"\\n  data-admin-utc-offset=\"0\">\\n\\n<!-- Container -->\\n<div id=\"container\">\\n\\n    \\n    <!-- Header -->\\n    <div id=\"header\">\\n        <div id=\"branding\">\\n        \\n<h1 id=\"site-name\"><a href=\"/admin/\">Django administration</a></h1>\\n\\n        </div>\\n        \\n        \\n        <div id=\"user-tools\">\\n            \\n                Welcome,\\n                <strong>cloud</strong>.\\n            \\n            \\n                \\n                    <a href=\"/\">View site</a> /\\n                \\n                \\n                    \\n                    \\n                \\n                \\n                <a href=\"/admin/password_change/\">Change password</a> /\\n                \\n                <a href=\"/admin/logout/\">Log out</a>\\n            \\n        </div>\\n        \\n        \\n        \\n    </div>\\n    <!-- END Header -->\\n    \\n<div class=\"breadcrumbs\">\\n<a href=\"/admin/\">Home</a>\\n&rsaquo; <a href=\"/admin/auth/\">Authentication and Authorization</a>\\n&rsaquo; <a href=\"/admin/auth/user/\">Users</a>\\n&rsaquo; TESTECLOUD\\n</div>\\n\\n    \\n\\n    <div class=\"main shifted\" id=\"main\">\\n      \\n        \\n          \\n<button class=\"sticky toggle-nav-sidebar\" id=\"toggle-nav-sidebar\" aria-label=\"Toggle navigation\"></button>\\n<nav class=\"sticky\" id=\"nav-sidebar\">\\n  \\n\\n\\n  \\n    <div class=\"app-auth module current-app\">\\n      <table>\\n        <caption>\\n          <a href=\"/admin/auth/\" class=\"section\" title=\"Models in the Authentication and Authorization application\">Authentication and Authorization</a>\\n        </caption>\\n        \\n          <tr class=\"model-group\">\\n            \\n              <th scope=\"row\"><a href=\"/admin/auth/group/\">Groups</a></th>\\n            \\n\\n            \\n              <td><a href=\"/admin/auth/group/add/\" class=\"addlink\">Add</a></td>\\n            \\n\\n            \\n          </tr>\\n        \\n          <tr class=\"model-user current-model\">\\n            \\n              <th scope=\"row\"><a href=\"/admin/auth/user/\" aria-current=\"page\">Users</a></th>\\n            \\n\\n            \\n              <td><a href=\"/admin/auth/user/add/\" class=\"addlink\">Add</a></td>\\n            \\n\\n            \\n          </tr>\\n        \\n      </table>\\n    </div>\\n  \\n    <div class=\"app-tasks module\">\\n      <table>\\n        <caption>\\n          <a href=\"/admin/tasks/\" class=\"section\" title=\"Models in the Tasks application\">Tasks</a>\\n        </caption>\\n        \\n          <tr class=\"model-task\">\\n            \\n              <th scope=\"row\"><a href=\"/admin/tasks/task/\">Tasks</a></th>\\n            \\n\\n            \\n              <td><a href=\"/admin/tasks/task/add/\" class=\"addlink\">Add</a></td>\\n            \\n\\n            \\n          </tr>\\n        \\n      </table>\\n    </div>\\n  \\n\\n\\n</nav>\\n\\n        \\n      \\n      <div class=\"content\">\\n        \\n          \\n            <ul class=\"messagelist\">\\n              <li class=\"success\">The user “<a href=\"/admin/auth/user/9/change/\">TESTECLOUD</a>” was added successfully. You may edit it again below.</li>\\n            </ul>\\n          \\n        \\n        <!-- Content -->\\n        <div id=\"content\" class=\"colM\">\\n          \\n          <h1>Change user</h1>\\n          <h2>TESTECLOUD</h2>\\n          <div id=\"content-main\">\\n\\n\\n  <ul class=\"object-tools\">\\n    \\n      \\n\\n<li>\\n    \\n    <a href=\"/admin/auth/user/9/history/\" class=\"historylink\">History</a>\\n</li>\\n\\n\\n\\n    \\n  </ul>\\n\\n\\n<form method=\"post\" id=\"user_form\" novalidate><input type=\"hidden\" name=\"csrfmiddlewaretoken\" value=\"0lgAczV8XSWKjS9jc9zmG3XjgcoBoJJJizmlN51fzmBZl9KOa5LHhNqniz2FEYzK\">\\n<div>\\n\\n\\n\\n\\n\\n\\n\\n  <fieldset class=\"module aligned \">\\n    \\n    \\n    \\n        <div class=\"form-row field-username\">\\n            \\n            \\n                <div>\\n                    \\n                    \\n                        <label class=\"required\" for=\"id_username\">Username:</label>\\n                        \\n                            <input type=\"text\" name=\"username\" value=\"TESTECLOUD\" class=\"vTextField\" maxlength=\"150\" autocapitalize=\"none\" autocomplete=\"username\" required id=\"id_username\">\\n                        \\n                    \\n                    \\n                        <div class=\"help\">Required. 150 characters or fewer. Letters, digits and @/./+/-/_ only.</div>\\n                    \\n                </div>\\n            \\n        </div>\\n    \\n        <div class=\"form-row field-password\">\\n            \\n            \\n                <div>\\n                    \\n                    \\n                        <label for=\"id_password\">Password:</label>\\n                        \\n                            <div disabled id=\"id_password\">\\n\\n<strong>algorithm</strong>: pbkdf2_sha256\\n\\n<strong>iterations</strong>: 260000\\n\\n<strong>salt</strong>: oSqj9d****************\\n\\n<strong>hash</strong>: L/zJ+B**************************************\\n\\n</div>\\n                        \\n                    \\n                    \\n                        <div class=\"help\">Raw passwords are not stored, so there is no way to see this user’s password, but you can change the password using <a href=\"../password/\">this form</a>.</div>\\n                    \\n                </div>\\n            \\n        </div>\\n    \\n</fieldset>\\n\\n\\n  <fieldset class=\"module aligned \">\\n    <h2>Personal info</h2>\\n    \\n    \\n        <div class=\"form-row field-first_name\">\\n            \\n            \\n                <div>\\n                    \\n                    \\n                        <label for=\"id_first_name\">First name:</label>\\n                        \\n                            <input type=\"text\" name=\"first_name\" class=\"vTextField\" maxlength=\"150\" id=\"id_first_name\">\\n                        \\n                    \\n                    \\n                </div>\\n            \\n        </div>\\n    \\n        <div class=\"form-row field-last_name\">\\n            \\n            \\n                <div>\\n                    \\n                    \\n                        <label for=\"id_last_name\">Last name:</label>\\n                        \\n                            <input type=\"text\" name=\"last_name\" class=\"vTextField\" maxlength=\"150\" id=\"id_last_name\">\\n                        \\n                    \\n                    \\n                </div>\\n            \\n        </div>\\n    \\n        <div class=\"form-row field-email\">\\n            \\n            \\n                <div>\\n                    \\n                    \\n                        <label for=\"id_email\">Email address:</label>\\n                        \\n                            <input type=\"email\" name=\"email\" class=\"vTextField\" maxlength=\"254\" id=\"id_email\">\\n                        \\n                    \\n                    \\n                </div>\\n            \\n        </div>\\n    \\n</fieldset>\\n\\n\\n  <fieldset class=\"module aligned \">\\n    <h2>Permissions</h2>\\n    \\n    \\n        <div class=\"form-row field-is_active\">\\n            \\n            \\n                <div class=\"checkbox-row\">\\n                    \\n                    \\n                        <input type=\"checkbox\" name=\"is_active\" id=\"id_is_active\" checked><label class=\"vCheckboxLabel\" for=\"id_is_active\">Active</label>\\n                    \\n                    \\n                        <div class=\"help\">Designates whether this user should be treated as active. Unselect this instead of deleting accounts.</div>\\n                    \\n                </div>\\n            \\n        </div>\\n    \\n        <div class=\"form-row field-is_staff\">\\n            \\n            \\n                <div class=\"checkbox-row\">\\n                    \\n                    \\n                        <input type=\"checkbox\" name=\"is_staff\" id=\"id_is_staff\"><label class=\"vCheckboxLabel\" for=\"id_is_staff\">Staff status</label>\\n                    \\n                    \\n                        <div class=\"help\">Designates whether the user can log into this admin site.</div>\\n                    \\n                </div>\\n            \\n        </div>\\n    \\n        <div class=\"form-row field-is_superuser\">\\n            \\n            \\n                <div class=\"checkbox-row\">\\n                    \\n                    \\n                        <input type=\"checkbox\" name=\"is_superuser\" id=\"id_is_superuser\"><label class=\"vCheckboxLabel\" for=\"id_is_superuser\">Superuser status</label>\\n                    \\n                    \\n                        <div class=\"help\">Designates that this user has all permissions without explicitly assigning them.</div>\\n                    \\n                </div>\\n            \\n        </div>\\n    \\n        <div class=\"form-row field-groups\">\\n            \\n            \\n                <div>\\n                    \\n                    \\n                        <label for=\"id_groups\">Groups:</label>\\n                        \\n                            <div class=\"related-widget-wrapper\">\\n    <select name=\"groups\" id=\"id_groups\" multiple class=\"selectfilter\" data-field-name=\"groups\" data-is-stacked=\"0\">\\n</select>\\n    \\n        <a class=\"related-widget-wrapper-link add-related\" id=\"add_id_groups\"\\n            href=\"/admin/auth/group/add/?_to_field=id&amp;_popup=1\"\\n            title=\"Add another group\"><img src=\"/static/admin/img/icon-addlink.svg\" alt=\"Add\"></a>\\n    \\n</div>\\n                        \\n                    \\n                    \\n                        <div class=\"help\">The groups this user belongs to. A user will get all permissions granted to each of their groups. Hold down “Control”, or “Command” on a Mac, to select more than one.</div>\\n                    \\n                </div>\\n            \\n        </div>\\n    \\n        <div class=\"form-row field-user_permissions\">\\n            \\n            \\n                <div>\\n                    \\n                    \\n                        <label for=\"id_user_permissions\">User permissions:</label>\\n                        \\n                            <div class=\"related-widget-wrapper\">\\n    <select name=\"user_permissions\" id=\"id_user_permissions\" multiple class=\"selectfilter\" data-field-name=\"user permissions\" data-is-stacked=\"0\">\\n  <option value=\"1\">admin | log entry | Can add log entry</option>\\n\\n  <option value=\"2\">admin | log entry | Can change log entry</option>\\n\\n  <option value=\"3\">admin | log entry | Can delete log entry</option>\\n\\n  <option value=\"4\">admin | log entry | Can view log entry</option>\\n\\n  <option value=\"9\">auth | group | Can add group</option>\\n\\n  <option value=\"10\">auth | group | Can change group</option>\\n\\n  <option value=\"11\">auth | group | Can delete group</option>\\n\\n  <option value=\"12\">auth | group | Can view group</option>\\n\\n  <option value=\"5\">auth | permission | Can add permission</option>\\n\\n  <option value=\"6\">auth | permission | Can change permission</option>\\n\\n  <option value=\"7\">auth | permission | Can delete permission</option>\\n\\n  <option value=\"8\">auth | permission | Can view permission</option>\\n\\n  <option value=\"13\">auth | user | Can add user</option>\\n\\n  <option value=\"14\">auth | user | Can change user</option>\\n\\n  <option value=\"15\">auth | user | Can delete user</option>\\n\\n  <option value=\"16\">auth | user | Can view user</option>\\n\\n  <option value=\"17\">contenttypes | content type | Can add content type</option>\\n\\n  <option value=\"18\">contenttypes | content type | Can change content type</option>\\n\\n  <option value=\"19\">contenttypes | content type | Can delete content type</option>\\n\\n  <option value=\"20\">contenttypes | content type | Can view content type</option>\\n\\n  <option value=\"21\">sessions | session | Can add session</option>\\n\\n  <option value=\"22\">sessions | session | Can change session</option>\\n\\n  <option value=\"23\">sessions | session | Can delete session</option>\\n\\n  <option value=\"24\">sessions | session | Can view session</option>\\n\\n  <option value=\"25\">tasks | task | Can add task</option>\\n\\n  <option value=\"26\">tasks | task | Can change task</option>\\n\\n  <option value=\"27\">tasks | task | Can delete task</option>\\n\\n  <option value=\"28\">tasks | task | Can view task</option>\\n\\n</select>\\n    \\n        \\n    \\n</div>\\n                        \\n                    \\n                    \\n                        <div class=\"help\">Specific permissions for this user. Hold down “Control”, or “Command” on a Mac, to select more than one.</div>\\n                    \\n                </div>\\n            \\n        </div>\\n    \\n</fieldset>\\n\\n\\n  <fieldset class=\"module aligned \">\\n    <h2>Important dates</h2>\\n    \\n    \\n        <div class=\"form-row field-last_login\">\\n            \\n            \\n                <div>\\n                    \\n                    \\n                        <label for=\"id_last_login_0\">Last login:</label>\\n                        \\n                            <p class=\"datetime\">\\n  Date: <input type=\"text\" name=\"last_login_0\" class=\"vDateField\" size=\"10\" id=\"id_last_login_0\">\\n\\n<br>\\n  Time: <input type=\"text\" name=\"last_login_1\" class=\"vTimeField\" size=\"8\" id=\"id_last_login_1\">\\n\\n\\n</p>\\n                        \\n                    \\n                    \\n                </div>\\n            \\n        </div>\\n    \\n        <div class=\"form-row field-date_joined\">\\n            \\n            \\n                <div>\\n                    \\n                    \\n                        <label class=\"required\" for=\"id_date_joined_0\">Date joined:</label>\\n                        \\n                            <p class=\"datetime\">\\n  Date: <input type=\"text\" name=\"date_joined_0\" value=\"2021-11-17\" class=\"vDateField\" size=\"10\" required id=\"id_date_joined_0\">\\n\\n<br>\\n  Time: <input type=\"text\" name=\"date_joined_1\" value=\"18:16:56\" class=\"vTimeField\" size=\"8\" required id=\"id_date_joined_1\">\\n\\n\\n</p><input type=\"hidden\" name=\"initial-date_joined_0\" value=\"2021-11-17\" id=\"initial-id_date_joined_0\"><input type=\"hidden\" name=\"initial-date_joined_1\" value=\"18:16:56\" id=\"initial-id_date_joined_1\">\\n                        \\n                    \\n                    \\n                </div>\\n            \\n        </div>\\n    \\n</fieldset>\\n\\n\\n\\n\\n\\n\\n\\n\\n\\n\\n\\n\\n\\n<div class=\"submit-row\">\\n\\n<input type=\"submit\" value=\"Save\" class=\"default\" name=\"_save\">\\n\\n    \\n    <p class=\"deletelink-box\"><a href=\"/admin/auth/user/9/delete/\" class=\"deletelink\">Delete</a></p>\\n\\n\\n<input type=\"submit\" value=\"Save and add another\" name=\"_addanother\">\\n<input type=\"submit\" value=\"Save and continue editing\" name=\"_continue\">\\n\\n\\n</div>\\n\\n\\n\\n    <script id=\"django-admin-form-add-constants\"\\n            src=\"/static/admin/js/change_form.js\"\\n            \\n            async>\\n    </script>\\n\\n\\n\\n\\n<script id=\"django-admin-prepopulated-fields-constants\"\\n        src=\"/static/admin/js/prepopulate_init.js\"\\n        data-prepopulated-fields=\"[]\">\\n</script>\\n\\n\\n</div>\\n</form></div>\\n\\n          \\n          <br class=\"clear\">\\n        </div>\\n        <!-- END Content -->\\n        <div id=\"footer\"></div>\\n      </div>\\n    </div>\\n</div>\\n<!-- END Container -->\\n</body>\\n</html>\\n'"
      ]
     },
     "execution_count": 184,
     "metadata": {},
     "output_type": "execute_result"
    }
   ],
   "source": [
    "add_user(URL_add, 'TESTECLOUD', 'Banana888', 'Banana888', cookies)"
   ]
  },
  {
   "cell_type": "code",
   "execution_count": 176,
   "metadata": {},
   "outputs": [],
   "source": [
    "def delete_user(user_id, cookies):\n",
    "    URL_delete = f\"http://{lb_url}/admin/auth/user/{user_id}/delete/\"\n",
    "    client = requests.session()\n",
    "    client.get(URL)  # sets cookie\n",
    "    csrftoken = client.cookies['csrftoken']\n",
    "    post_data = dict(csrfmiddlewaretoken=csrftoken,post = \"yes\")\n",
    "    r2 = client.post(URL, data=post_data, headers=dict(Referer=URL), cookies = cookies)\n",
    "    return r2.text"
   ]
  },
  {
   "cell_type": "code",
   "execution_count": 179,
   "metadata": {},
   "outputs": [
    {
     "name": "stdout",
     "output_type": "stream",
     "text": [
      "<!DOCTYPE html>\n",
      "\n",
      "<html lang=\"en-us\" dir=\"ltr\">\n",
      "<head>\n",
      "<title>Log in | Django site admin</title>\n",
      "<link rel=\"stylesheet\" type=\"text/css\" href=\"/static/admin/css/base.css\">\n",
      "\n",
      "  <link rel=\"stylesheet\" type=\"text/css\" href=\"/static/admin/css/nav_sidebar.css\">\n",
      "  <script src=\"/static/admin/js/nav_sidebar.js\" defer></script>\n",
      "\n",
      "<link rel=\"stylesheet\" type=\"text/css\" href=\"/static/admin/css/login.css\">\n",
      "\n",
      "\n",
      "\n",
      "\n",
      "\n",
      "    <meta name=\"viewport\" content=\"user-scalable=no, width=device-width, initial-scale=1.0, maximum-scale=1.0\">\n",
      "    <link rel=\"stylesheet\" type=\"text/css\" href=\"/static/admin/css/responsive.css\">\n",
      "    \n",
      "\n",
      "<meta name=\"robots\" content=\"NONE,NOARCHIVE\">\n",
      "</head>\n",
      "\n",
      "\n",
      "<body class=\" login\"\n",
      "  data-admin-utc-offset=\"0\">\n",
      "\n",
      "<!-- Container -->\n",
      "<div id=\"container\">\n",
      "\n",
      "    \n",
      "    <!-- Header -->\n",
      "    <div id=\"header\">\n",
      "        <div id=\"branding\">\n",
      "        \n",
      "<h1 id=\"site-name\"><a href=\"/admin/\">Django administration</a></h1>\n",
      "\n",
      "        </div>\n",
      "        \n",
      "        \n",
      "    </div>\n",
      "    <!-- END Header -->\n",
      "    \n",
      "    \n",
      "\n",
      "    <div class=\"main shifted\" id=\"main\">\n",
      "      \n",
      "        \n",
      "      \n",
      "      <div class=\"content\">\n",
      "        \n",
      "          \n",
      "        \n",
      "        <!-- Content -->\n",
      "        <div id=\"content\" class=\"colM\">\n",
      "          \n",
      "          \n",
      "          \n",
      "          \n",
      "\n",
      "<p class=\"errornote\">\n",
      "Please correct the errors below.\n",
      "</p>\n",
      "\n",
      "\n",
      "\n",
      "\n",
      "<div id=\"content-main\">\n",
      "\n",
      "\n",
      "<p class=\"errornote\">\n",
      "You are authenticated as cloud, but are not authorized to access this page. Would you like to login to a different account?\n",
      "</p>\n",
      "\n",
      "\n",
      "<form action=\"/admin/login/?next=/admin/\" method=\"post\" id=\"login-form\"><input type=\"hidden\" name=\"csrfmiddlewaretoken\" value=\"96gkcprm2oz7KDcsmJUpdaWueHOIy097c5G0yeJ6GUlNgIvGWrJK8gEJGvAGOMjL\">\n",
      "  <div class=\"form-row\">\n",
      "    <ul class=\"errorlist\"><li>This field is required.</li></ul>\n",
      "    <label class=\"required\" for=\"id_username\">Username:</label> <input type=\"text\" name=\"username\" autofocus autocapitalize=\"none\" autocomplete=\"username\" maxlength=\"150\" required id=\"id_username\">\n",
      "  </div>\n",
      "  <div class=\"form-row\">\n",
      "    <ul class=\"errorlist\"><li>This field is required.</li></ul>\n",
      "    <label class=\"required\" for=\"id_password\">Password:</label> <input type=\"password\" name=\"password\" autocomplete=\"current-password\" required id=\"id_password\">\n",
      "    <input type=\"hidden\" name=\"next\" value=\"/admin/\">\n",
      "  </div>\n",
      "  \n",
      "  \n",
      "  <div class=\"submit-row\">\n",
      "    <input type=\"submit\" value=\"Log in\">\n",
      "  </div>\n",
      "</form>\n",
      "\n",
      "</div>\n",
      "\n",
      "          \n",
      "          <br class=\"clear\">\n",
      "        </div>\n",
      "        <!-- END Content -->\n",
      "        <div id=\"footer\"></div>\n",
      "      </div>\n",
      "    </div>\n",
      "</div>\n",
      "<!-- END Container -->\n",
      "</body>\n",
      "</html>\n",
      "\n"
     ]
    }
   ],
   "source": [
    "print(delete_user(2, cookies))"
   ]
  },
  {
   "cell_type": "code",
   "execution_count": null,
   "metadata": {},
   "outputs": [],
   "source": []
  }
 ],
 "metadata": {
  "kernelspec": {
   "display_name": "Python 3",
   "language": "python",
   "name": "python3"
  },
  "language_info": {
   "codemirror_mode": {
    "name": "ipython",
    "version": 3
   },
   "file_extension": ".py",
   "mimetype": "text/x-python",
   "name": "python",
   "nbconvert_exporter": "python",
   "pygments_lexer": "ipython3",
   "version": "3.7.1"
  }
 },
 "nbformat": 4,
 "nbformat_minor": 5
}
