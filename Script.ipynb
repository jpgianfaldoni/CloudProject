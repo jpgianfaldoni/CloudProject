{
 "cells": [
  {
   "cell_type": "code",
   "execution_count": 34,
   "id": "dcdba32e",
   "metadata": {},
   "outputs": [],
   "source": [
    "import boto3\n",
    "from botocore.config import Config\n",
    "import sys\n",
    "import os\n",
    "import time\n",
    "import requests\n",
    "from bs4 import BeautifulSoup\n"
   ]
  },
  {
   "cell_type": "code",
   "execution_count": 35,
   "id": "245446d8",
   "metadata": {},
   "outputs": [],
   "source": [
    "ohio_region  = Config(region_name=\"us-east-2\")\n",
    "north_virginia_region  = Config(region_name=\"us-east-1\")"
   ]
  },
  {
   "cell_type": "code",
   "execution_count": 36,
   "id": "398b7413",
   "metadata": {},
   "outputs": [],
   "source": [
    "ohio_ec2 = boto3.resource('ec2', config=ohio_region)\n",
    "north_virginia_ec2 = boto3.resource('ec2', config=north_virginia_region)"
   ]
  },
  {
   "cell_type": "code",
   "execution_count": 37,
   "id": "a846934e",
   "metadata": {},
   "outputs": [],
   "source": [
    "script_mysql = '''#!/bin/bash\n",
    "sudo apt update\n",
    "sudo apt install mysql-server -y\n",
    "sudo mysql -uroot -e \"ALTER USER 'root'@'localhost' IDENTIFIED WITH mysql_native_password BY 'cloud';CREATE USER 'root'@'%' IDENTIFIED BY 'cloud';GRANT ALL PRIVILEGES ON *.* TO 'root'@'%';FLUSH PRIVILEGES;CREATE DATABASE tasks;\"\n",
    "sudo sed -i 's/bind-address/#banana/g' /etc/mysql/mysql.conf.d/mysqld.cnf\n",
    "sudo sed -i 's/mysqlx/#banana/g' /etc/mysql/mysql.conf.d/mysqld.cnf\n",
    "sudo ufw allow 3306/tcp\n",
    "sudo systemctl restart mysql\n",
    "'''"
   ]
  },
  {
   "cell_type": "code",
   "execution_count": 38,
   "id": "f9d7555d",
   "metadata": {},
   "outputs": [
    {
     "data": {
      "text/plain": [
       "{'Return': True,\n",
       " 'SecurityGroupRules': [{'SecurityGroupRuleId': 'sgr-04254e42f37910b48',\n",
       "   'GroupId': 'sg-04820a29c081369a3',\n",
       "   'GroupOwnerId': '903616414837',\n",
       "   'IsEgress': False,\n",
       "   'IpProtocol': 'tcp',\n",
       "   'FromPort': 0,\n",
       "   'ToPort': 10000,\n",
       "   'CidrIpv4': '0.0.0.0/0'}],\n",
       " 'ResponseMetadata': {'RequestId': '1706cd7f-0856-4319-bcb5-8ec08942dc43',\n",
       "  'HTTPStatusCode': 200,\n",
       "  'HTTPHeaders': {'x-amzn-requestid': '1706cd7f-0856-4319-bcb5-8ec08942dc43',\n",
       "   'cache-control': 'no-cache, no-store',\n",
       "   'strict-transport-security': 'max-age=31536000; includeSubDomains',\n",
       "   'content-type': 'text/xml;charset=UTF-8',\n",
       "   'content-length': '721',\n",
       "   'date': 'Wed, 24 Nov 2021 13:15:35 GMT',\n",
       "   'server': 'AmazonEC2'},\n",
       "  'RetryAttempts': 0}}"
      ]
     },
     "execution_count": 38,
     "metadata": {},
     "output_type": "execute_result"
    }
   ],
   "source": [
    "security_group = ohio_ec2.create_security_group(\n",
    "    Description='string',\n",
    "    GroupName='SecurityGroup2',\n",
    "    TagSpecifications=[\n",
    "        {\n",
    "            'ResourceType': 'security-group',\n",
    "            'Tags': [\n",
    "                {\n",
    "                    'Key': 'Name',\n",
    "                    'Value': 'mysql'\n",
    "                },\n",
    "            ]\n",
    "        },\n",
    "    ],\n",
    ")\n",
    "\n",
    "\n",
    "\n",
    "\n",
    "security_group.authorize_ingress(IpProtocol=\"tcp\",CidrIp=\"0.0.0.0/0\",FromPort=0,ToPort=10000)\n",
    "\n",
    "security_group2 = north_virginia_ec2.create_security_group(\n",
    "    Description='string',\n",
    "    GroupName='SecurityGroup2',\n",
    "    TagSpecifications=[\n",
    "        {\n",
    "            'ResourceType': 'security-group',\n",
    "            'Tags': [\n",
    "                {\n",
    "                    'Key': 'Name',\n",
    "                    'Value': 'mysql'\n",
    "                },\n",
    "            ]\n",
    "        },\n",
    "    ],\n",
    ")\n",
    "\n",
    "\n",
    "\n",
    "\n",
    "security_group2.authorize_ingress(IpProtocol=\"tcp\",CidrIp=\"0.0.0.0/0\",FromPort=0,ToPort=10000)"
   ]
  },
  {
   "cell_type": "code",
   "execution_count": 39,
   "id": "fe49e38d",
   "metadata": {},
   "outputs": [],
   "source": [
    "instance_ohio = ohio_ec2.create_instances(\n",
    "        ImageId=\"ami-00399ec92321828f5\",\n",
    "        MinCount=1,\n",
    "        MaxCount=1,\n",
    "        InstanceType=\"t2.micro\",\n",
    "        KeyName=\"jpgianfaldoni\",\n",
    "        SecurityGroupIds = [security_group.group_id],\n",
    "        UserData = script_mysql\n",
    "    )\n",
    "\n"
   ]
  },
  {
   "cell_type": "code",
   "execution_count": 40,
   "id": "ec40fa39",
   "metadata": {},
   "outputs": [],
   "source": [
    "instance_ohio[0].wait_until_running()\n",
    "instance_ohio[0].reload()\n",
    "public_ip_ohio = instance_ohio[0].public_ip_address\n",
    "time.sleep(10)"
   ]
  },
  {
   "cell_type": "code",
   "execution_count": 41,
   "id": "a28a63cc",
   "metadata": {},
   "outputs": [],
   "source": [
    "script_django_mysql = f\"\"\"#!/bin/bash\n",
    "cd /home/ubuntu\n",
    "sudo apt update\n",
    "sudo apt-get install python3-dev default-libmysqlclient-dev build-essential -y\n",
    "git clone https://github.com/raulikeda/tasks.git\n",
    "cd tasks\n",
    "sudo sed -i 's/node1/{public_ip_ohio}/g' portfolio/settings.py\n",
    "sudo sed -i 's/django.db.backends.postgresql/django.db.backends.mysql/g' portfolio/settings.py\n",
    "sudo sed -i 's/5432/3306/g' portfolio/settings.py\n",
    "sudo sed -i \"s/'USER': 'cloud'/'USER': 'root'/g\" portfolio/settings.py\n",
    "echo \"mysqlclient\" >> requirements.txt\n",
    "./install.sh\n",
    "sudo reboot \n",
    "\"\"\""
   ]
  },
  {
   "cell_type": "code",
   "execution_count": 42,
   "id": "ac809070",
   "metadata": {},
   "outputs": [],
   "source": [
    "north_virginia = north_virginia_ec2.create_instances(\n",
    "        ImageId=\"ami-09e67e426f25ce0d7\",\n",
    "        MinCount=1,\n",
    "        MaxCount=1,\n",
    "        InstanceType=\"t2.micro\",\n",
    "        KeyName=\"jpgianfaldoni\",\n",
    "        SecurityGroupIds = [security_group2.group_id],\n",
    "        UserData = script_django_mysql\n",
    "    )"
   ]
  },
  {
   "cell_type": "code",
   "execution_count": 43,
   "id": "2dfeb82b",
   "metadata": {},
   "outputs": [],
   "source": [
    "north_virginia[0].wait_until_running()\n",
    "north_virginia[0].reload()\n"
   ]
  },
  {
   "cell_type": "code",
   "execution_count": 44,
   "id": "b1ee18e8",
   "metadata": {},
   "outputs": [],
   "source": [
    "nv_ip = north_virginia[0].public_ip_address"
   ]
  },
  {
   "cell_type": "code",
   "execution_count": 45,
   "id": "3fbf26e0",
   "metadata": {},
   "outputs": [
    {
     "data": {
      "text/plain": [
       "'52.90.87.11'"
      ]
     },
     "execution_count": 45,
     "metadata": {},
     "output_type": "execute_result"
    }
   ],
   "source": [
    "nv_ip"
   ]
  },
  {
   "cell_type": "code",
   "execution_count": 46,
   "id": "01b5477a",
   "metadata": {},
   "outputs": [],
   "source": [
    "nv_response = \"Fail\"\n",
    "client_nv = requests.session()\n",
    "try_counter = 0"
   ]
  },
  {
   "cell_type": "code",
   "execution_count": 47,
   "id": "3bd676a9",
   "metadata": {},
   "outputs": [
    {
     "name": "stdout",
     "output_type": "stream",
     "text": [
      "1\n",
      "2\n",
      "3\n",
      "4\n",
      "5\n",
      "6\n",
      "7\n",
      "8\n",
      "9\n",
      "10\n",
      "11\n",
      "12\n",
      "13\n",
      "14\n",
      "15\n",
      "16\n",
      "17\n",
      "18\n",
      "19\n",
      "20\n",
      "21\n",
      "22\n",
      "23\n",
      "24\n",
      "25\n",
      "26\n",
      "27\n"
     ]
    }
   ],
   "source": [
    "while nv_response == \"Fail\":\n",
    "    time.sleep(1)\n",
    "    try:\n",
    "        nv_response = client_nv.get(f\"http://{nv_ip}:8080/tasks/\")\n",
    "    except:\n",
    "        nv_response = \"Fail\"\n",
    "    if try_counter > 300:\n",
    "        break\n",
    "    try_counter += 1\n",
    "    print(try_counter)"
   ]
  },
  {
   "cell_type": "code",
   "execution_count": 48,
   "id": "f8f69336",
   "metadata": {},
   "outputs": [],
   "source": [
    "django_img = north_virginia[0].create_image(Name='django_img3')\n"
   ]
  },
  {
   "cell_type": "code",
   "execution_count": 49,
   "id": "70400658",
   "metadata": {},
   "outputs": [
    {
     "data": {
      "text/plain": [
       "{'TerminatingInstances': [{'CurrentState': {'Code': 32,\n",
       "    'Name': 'shutting-down'},\n",
       "   'InstanceId': 'i-09a52451d6a1bf536',\n",
       "   'PreviousState': {'Code': 16, 'Name': 'running'}}],\n",
       " 'ResponseMetadata': {'RequestId': '2637d704-27a3-4578-9fca-cc411994f0d2',\n",
       "  'HTTPStatusCode': 200,\n",
       "  'HTTPHeaders': {'x-amzn-requestid': '2637d704-27a3-4578-9fca-cc411994f0d2',\n",
       "   'cache-control': 'no-cache, no-store',\n",
       "   'strict-transport-security': 'max-age=31536000; includeSubDomains',\n",
       "   'vary': 'accept-encoding',\n",
       "   'content-type': 'text/xml;charset=UTF-8',\n",
       "   'transfer-encoding': 'chunked',\n",
       "   'date': 'Wed, 24 Nov 2021 13:23:10 GMT',\n",
       "   'server': 'AmazonEC2'},\n",
       "  'RetryAttempts': 0}}"
      ]
     },
     "execution_count": 49,
     "metadata": {},
     "output_type": "execute_result"
    }
   ],
   "source": [
    "while django_img.state != 'available':\n",
    "    django_img.reload()\n",
    "north_virginia[0].terminate()"
   ]
  },
  {
   "cell_type": "code",
   "execution_count": 50,
   "id": "cabe2630",
   "metadata": {},
   "outputs": [],
   "source": [
    "autoscaling  = boto3.client('autoscaling', config=north_virginia_region)\n",
    "elb = boto3.client('elbv2', config=north_virginia_region)\n"
   ]
  },
  {
   "cell_type": "code",
   "execution_count": 51,
   "id": "fa4b1313",
   "metadata": {},
   "outputs": [],
   "source": [
    "create_launch_response = autoscaling.create_launch_configuration(\n",
    "    LaunchConfigurationName='LCV999',\n",
    "    ImageId= django_img.id,\n",
    "    KeyName='jpgianfaldoni',\n",
    "    SecurityGroups=[\n",
    "        security_group2.id,\n",
    "    ],\n",
    "    BlockDeviceMappings=[\n",
    "                        {\n",
    "                            'DeviceName': '/dev/sda1',\n",
    "                            'Ebs': {\n",
    "                                'DeleteOnTermination': True,\n",
    "                                'VolumeSize': 8,\n",
    "                                'VolumeType': 'gp2'\n",
    "                            },\n",
    "                        },\n",
    "                ],\n",
    "    InstanceType='t2.micro',\n",
    "    \n",
    ")\n"
   ]
  },
  {
   "cell_type": "code",
   "execution_count": 52,
   "id": "1ec66ca2",
   "metadata": {},
   "outputs": [],
   "source": [
    "create_autoscaling_response = autoscaling.create_auto_scaling_group(\n",
    "    AutoScalingGroupName='AutoScalingV1',\n",
    "    LaunchConfigurationName='LCV999',\n",
    "    MinSize=1,\n",
    "    MaxSize=3,\n",
    "    DesiredCapacity=3,\n",
    "    DefaultCooldown=60,\n",
    "    AvailabilityZones=[\n",
    "        'us-east-1a',\n",
    "        'us-east-1b',\n",
    "        'us-east-1c',\n",
    "        'us-east-1d',\n",
    "        'us-east-1e',\n",
    "        'us-east-1f',\n",
    "    ]\n",
    ")"
   ]
  },
  {
   "cell_type": "code",
   "execution_count": 53,
   "id": "ba353789",
   "metadata": {},
   "outputs": [],
   "source": [
    "create_target_response = elb.create_target_group(\n",
    "    Name='Tgroup5',\n",
    "    Protocol='HTTP',\n",
    "    Port=8080,\n",
    "    VpcId='vpc-ebd11591',\n",
    "    HealthCheckPath = '/tasks/',\n",
    "    HealthCheckProtocol='HTTP',\n",
    "    HealthCheckEnabled=True,\n",
    "    HealthCheckIntervalSeconds=30,\n",
    "    HealthCheckTimeoutSeconds=15,\n",
    "    HealthyThresholdCount=5,\n",
    "    UnhealthyThresholdCount=5,\n",
    "    TargetType='instance',\n",
    "    IpAddressType='ipv4'\n",
    ")"
   ]
  },
  {
   "cell_type": "code",
   "execution_count": 54,
   "id": "6143f4c9",
   "metadata": {},
   "outputs": [],
   "source": [
    "tg_arn = create_target_response['TargetGroups'][0]['TargetGroupArn']"
   ]
  },
  {
   "cell_type": "code",
   "execution_count": 55,
   "id": "2c93f432",
   "metadata": {},
   "outputs": [],
   "source": [
    "create_lb_response = elb.create_load_balancer(\n",
    "    Name='Elb3',\n",
    "    Subnets=[\n",
    "        'subnet-54296d1e',\n",
    "        'subnet-7ebe0d50',\n",
    "        'subnet-13fa4b4f',\n",
    "        'subnet-e0f44387',\n",
    "    ],\n",
    "\n",
    "    SecurityGroups=[\n",
    "        security_group2.id,\n",
    "    ],\n",
    "    Type='application',\n",
    "    IpAddressType='ipv4',\n",
    ")"
   ]
  },
  {
   "cell_type": "code",
   "execution_count": 56,
   "id": "2b1fd3e1",
   "metadata": {},
   "outputs": [],
   "source": [
    "lb_arn = create_lb_response['LoadBalancers'][0]['LoadBalancerArn']"
   ]
  },
  {
   "cell_type": "code",
   "execution_count": 57,
   "id": "30ae2c5b",
   "metadata": {},
   "outputs": [],
   "source": [
    "ab_response = autoscaling.attach_load_balancer_target_groups(\n",
    "    AutoScalingGroupName='AutoScalingV1',\n",
    "    TargetGroupARNs=[\n",
    "        tg_arn,\n",
    "    ]\n",
    ")"
   ]
  },
  {
   "cell_type": "code",
   "execution_count": 58,
   "id": "ee418e9e",
   "metadata": {},
   "outputs": [],
   "source": [
    "listener_response = elb.create_listener(\n",
    "    LoadBalancerArn= lb_arn,\n",
    "    DefaultActions=[\n",
    "        {\n",
    "            'Type': 'forward',\n",
    "            'TargetGroupArn': tg_arn,\n",
    "        },\n",
    "    ],\n",
    "    Port = 80,\n",
    "    Protocol = 'HTTP',\n",
    ")"
   ]
  },
  {
   "cell_type": "code",
   "execution_count": 59,
   "id": "ccb1fb3f",
   "metadata": {},
   "outputs": [
    {
     "data": {
      "text/plain": [
       "'Elb3-1845620628.us-east-1.elb.amazonaws.com'"
      ]
     },
     "execution_count": 59,
     "metadata": {},
     "output_type": "execute_result"
    }
   ],
   "source": [
    "lb_url = create_lb_response['LoadBalancers'][0]['DNSName']\n",
    "lb_url"
   ]
  },
  {
   "cell_type": "code",
   "execution_count": 60,
   "id": "d0e943c7",
   "metadata": {},
   "outputs": [],
   "source": [
    "URL = f'http://{lb_url}/admin/login/?next=/admin/'"
   ]
  },
  {
   "cell_type": "code",
   "execution_count": 61,
   "id": "cc53d421",
   "metadata": {},
   "outputs": [
    {
     "data": {
      "text/plain": [
       "'http://Elb3-1845620628.us-east-1.elb.amazonaws.com/admin/login/?next=/admin/'"
      ]
     },
     "execution_count": 61,
     "metadata": {},
     "output_type": "execute_result"
    }
   ],
   "source": [
    "URL"
   ]
  },
  {
   "cell_type": "code",
   "execution_count": 78,
   "id": "08b4d267",
   "metadata": {},
   "outputs": [
    {
     "name": "stdout",
     "output_type": "stream",
     "text": [
      "{'sessionid': 'nud7mvmd5vgzjab1h1hpndm7d18rwwvm'}\n"
     ]
    }
   ],
   "source": [
    "client = requests.session()\n",
    "\n",
    "client.get(URL) \n",
    "\n",
    "csrftoken = client.cookies['csrftoken']\n",
    "\n",
    "    \n",
    "login_data = dict(username='cloud', password='cloud', csrfmiddlewaretoken=csrftoken, next='/admin/')\n",
    "r = client.post(URL, data=login_data, headers=dict(Referer=URL))\n",
    "cookies = dict(sessionid=client.cookies.get('sessionid'))\n",
    "print(cookies)"
   ]
  },
  {
   "cell_type": "code",
   "execution_count": 79,
   "id": "7e36ac87",
   "metadata": {},
   "outputs": [],
   "source": [
    "URL_add_user = f\"http://{lb_url}/admin/auth/user/add/\"\n",
    "URL_add_group = f\"http://{lb_url}/admin/auth/group/add/\""
   ]
  },
  {
   "cell_type": "code",
   "execution_count": 80,
   "id": "4f32523b",
   "metadata": {},
   "outputs": [],
   "source": [
    "def add_user(URL, username, password1, password2,cookies):\n",
    "    client = requests.session()\n",
    "    client.get(URL)  # sets cookie\n",
    "    csrftoken = client.cookies['csrftoken']\n",
    "    post_data = dict(csrfmiddlewaretoken=csrftoken, username=username, password1=password1,\n",
    "                     password2 =password2, _save = \"Save\")\n",
    "    r2 = client.post(URL, data=post_data, headers=dict(Referer=URL), cookies = cookies)\n",
    "    return r2\n",
    "    "
   ]
  },
  {
   "cell_type": "code",
   "execution_count": 81,
   "id": "a5027d22",
   "metadata": {},
   "outputs": [],
   "source": [
    "def delete_user(user_id, cookies):\n",
    "    URL_delete = f\"http://{lb_url}/admin/auth/user/{user_id}/delete/\"\n",
    "    client = requests.session()\n",
    "    client.get(URL_delete)  # sets cookie\n",
    "    csrftoken = client.cookies['csrftoken']\n",
    "    post_data = dict(csrfmiddlewaretoken=csrftoken,post = \"yes\")\n",
    "    r2 = client.post(URL_delete, data=post_data, headers=dict(Referer=URL_delete), cookies = cookies)\n",
    "    return r2"
   ]
  },
  {
   "cell_type": "code",
   "execution_count": 82,
   "id": "06c3a59f",
   "metadata": {},
   "outputs": [],
   "source": [
    "def add_group(URL, groupname ,cookies):\n",
    "    client = requests.session()\n",
    "    client.get(URL)  # sets cookie\n",
    "    csrftoken = client.cookies['csrftoken']\n",
    "    post_data = dict(csrfmiddlewaretoken=csrftoken, name=groupname, _save = \"Save\")\n",
    "    r2 = client.post(URL, data=post_data, headers=dict(Referer=URL), cookies = cookies)\n",
    "    return r2"
   ]
  },
  {
   "cell_type": "code",
   "execution_count": 83,
   "id": "176f4815",
   "metadata": {},
   "outputs": [],
   "source": [
    "def delete_group(group_id, cookies):\n",
    "    URL_delete = f\"http://{lb_url}/admin/auth/group/{group_id}/delete/\"\n",
    "    client = requests.session()\n",
    "    client.get(URL_delete)  # sets cookie\n",
    "    csrftoken = client.cookies['csrftoken']\n",
    "    post_data = dict(csrfmiddlewaretoken=csrftoken,post = \"yes\")\n",
    "    r2 = client.post(URL_delete, data=post_data, headers=dict(Referer=URL_delete), cookies = cookies)\n",
    "    return r2"
   ]
  },
  {
   "cell_type": "code",
   "execution_count": 84,
   "id": "73cb2e9d",
   "metadata": {
    "scrolled": true
   },
   "outputs": [
    {
     "data": {
      "text/plain": [
       "<Response [200]>"
      ]
     },
     "execution_count": 84,
     "metadata": {},
     "output_type": "execute_result"
    }
   ],
   "source": [
    "add_user(URL_add_user, 'Joao4', 'Banana888', 'Banana888', cookies)"
   ]
  },
  {
   "cell_type": "code",
   "execution_count": null,
   "id": "1eff23cb",
   "metadata": {},
   "outputs": [],
   "source": [
    "delete_user(4, cookies)"
   ]
  },
  {
   "cell_type": "code",
   "execution_count": 85,
   "id": "d7f064d7",
   "metadata": {},
   "outputs": [
    {
     "data": {
      "text/plain": [
       "<Response [200]>"
      ]
     },
     "execution_count": 85,
     "metadata": {},
     "output_type": "execute_result"
    }
   ],
   "source": [
    "add_group(URL_add_group, 'GroupJoao', cookies)"
   ]
  },
  {
   "cell_type": "code",
   "execution_count": null,
   "id": "dc8042c3",
   "metadata": {},
   "outputs": [],
   "source": [
    "delete_group(1, cookies)"
   ]
  },
  {
   "cell_type": "code",
   "execution_count": 87,
   "id": "c0c90039",
   "metadata": {},
   "outputs": [
    {
     "data": {
      "text/plain": [
       "{'ResponseMetadata': {'RequestId': '09b0fd93-2ec8-41eb-a9b7-4267a9648b40',\n",
       "  'HTTPStatusCode': 200,\n",
       "  'HTTPHeaders': {'x-amzn-requestid': '09b0fd93-2ec8-41eb-a9b7-4267a9648b40',\n",
       "   'cache-control': 'no-cache, no-store',\n",
       "   'strict-transport-security': 'max-age=31536000; includeSubDomains',\n",
       "   'content-type': 'text/xml;charset=UTF-8',\n",
       "   'content-length': '239',\n",
       "   'date': 'Wed, 24 Nov 2021 13:32:36 GMT',\n",
       "   'server': 'AmazonEC2'},\n",
       "  'RetryAttempts': 0}}"
      ]
     },
     "execution_count": 87,
     "metadata": {},
     "output_type": "execute_result"
    }
   ],
   "source": [
    "### DELETE ALL\n",
    "##OHIO\n",
    "instance_ohio[0].terminate()\n",
    "instance_ohio[0].wait_until_terminated()\n",
    "security_group.delete()"
   ]
  },
  {
   "cell_type": "code",
   "execution_count": 88,
   "id": "0146757e",
   "metadata": {},
   "outputs": [
    {
     "data": {
      "text/plain": [
       "{'ResponseMetadata': {'RequestId': 'e111abf9-6d33-4e99-b00e-e79415b084d1',\n",
       "  'HTTPStatusCode': 200,\n",
       "  'HTTPHeaders': {'x-amzn-requestid': 'e111abf9-6d33-4e99-b00e-e79415b084d1',\n",
       "   'content-type': 'text/xml',\n",
       "   'content-length': '231',\n",
       "   'date': 'Wed, 24 Nov 2021 13:33:30 GMT'},\n",
       "  'RetryAttempts': 0}}"
      ]
     },
     "execution_count": 88,
     "metadata": {},
     "output_type": "execute_result"
    }
   ],
   "source": [
    "##NORTH VIRGINIA\n",
    "autoscaling.delete_auto_scaling_group(AutoScalingGroupName ='AutoScalingV1', ForceDelete = True)"
   ]
  },
  {
   "cell_type": "code",
   "execution_count": 89,
   "id": "3e60cbdf",
   "metadata": {},
   "outputs": [
    {
     "data": {
      "text/plain": [
       "{'ResponseMetadata': {'RequestId': '601a87d2-fb5f-4acd-bf6f-f54fa3703622',\n",
       "  'HTTPStatusCode': 200,\n",
       "  'HTTPHeaders': {'x-amzn-requestid': '601a87d2-fb5f-4acd-bf6f-f54fa3703622',\n",
       "   'cache-control': 'no-cache, no-store',\n",
       "   'strict-transport-security': 'max-age=31536000; includeSubDomains',\n",
       "   'content-type': 'text/xml;charset=UTF-8',\n",
       "   'content-length': '231',\n",
       "   'date': 'Wed, 24 Nov 2021 13:33:32 GMT',\n",
       "   'server': 'AmazonEC2'},\n",
       "  'RetryAttempts': 0}}"
      ]
     },
     "execution_count": 89,
     "metadata": {},
     "output_type": "execute_result"
    }
   ],
   "source": [
    "django_img.deregister()"
   ]
  },
  {
   "cell_type": "code",
   "execution_count": 90,
   "id": "d0aaf661",
   "metadata": {},
   "outputs": [
    {
     "data": {
      "text/plain": [
       "{'ResponseMetadata': {'RequestId': '4d37a244-ab34-4a6e-b086-8421109d91bd',\n",
       "  'HTTPStatusCode': 200,\n",
       "  'HTTPHeaders': {'x-amzn-requestid': '4d37a244-ab34-4a6e-b086-8421109d91bd',\n",
       "   'content-type': 'text/xml',\n",
       "   'content-length': '262',\n",
       "   'date': 'Wed, 24 Nov 2021 13:33:35 GMT'},\n",
       "  'RetryAttempts': 0}}"
      ]
     },
     "execution_count": 90,
     "metadata": {},
     "output_type": "execute_result"
    }
   ],
   "source": [
    "elb.delete_load_balancer(LoadBalancerArn= lb_arn)"
   ]
  },
  {
   "cell_type": "code",
   "execution_count": 92,
   "id": "dbb52917",
   "metadata": {},
   "outputs": [
    {
     "data": {
      "text/plain": [
       "{'ResponseMetadata': {'RequestId': '8f296a7b-e362-4372-95ee-d57eecce97b8',\n",
       "  'HTTPStatusCode': 200,\n",
       "  'HTTPHeaders': {'x-amzn-requestid': '8f296a7b-e362-4372-95ee-d57eecce97b8',\n",
       "   'content-type': 'text/xml',\n",
       "   'content-length': '259',\n",
       "   'date': 'Wed, 24 Nov 2021 13:33:48 GMT'},\n",
       "  'RetryAttempts': 0}}"
      ]
     },
     "execution_count": 92,
     "metadata": {},
     "output_type": "execute_result"
    }
   ],
   "source": [
    "elb.delete_target_group(TargetGroupArn= tg_arn)"
   ]
  },
  {
   "cell_type": "code",
   "execution_count": 93,
   "id": "f435500f",
   "metadata": {},
   "outputs": [
    {
     "data": {
      "text/plain": [
       "{'ResponseMetadata': {'RequestId': '38fd13bd-ce61-4ed9-8113-a7fe31eeabc1',\n",
       "  'HTTPStatusCode': 200,\n",
       "  'HTTPHeaders': {'x-amzn-requestid': '38fd13bd-ce61-4ed9-8113-a7fe31eeabc1',\n",
       "   'content-type': 'text/xml',\n",
       "   'content-length': '237',\n",
       "   'date': 'Wed, 24 Nov 2021 13:33:49 GMT'},\n",
       "  'RetryAttempts': 0}}"
      ]
     },
     "execution_count": 93,
     "metadata": {},
     "output_type": "execute_result"
    }
   ],
   "source": [
    "autoscaling.delete_launch_configuration(LaunchConfigurationName ='LCV999')"
   ]
  },
  {
   "cell_type": "code",
   "execution_count": 95,
   "id": "3ad6a0e8",
   "metadata": {},
   "outputs": [
    {
     "ename": "ClientError",
     "evalue": "An error occurred (DependencyViolation) when calling the DeleteSecurityGroup operation: resource sg-04820a29c081369a3 has a dependent object",
     "output_type": "error",
     "traceback": [
      "\u001b[1;31m---------------------------------------------------------------------------\u001b[0m",
      "\u001b[1;31mClientError\u001b[0m                               Traceback (most recent call last)",
      "\u001b[1;32m~\\AppData\\Local\\Temp/ipykernel_12220/1003124726.py\u001b[0m in \u001b[0;36m<module>\u001b[1;34m\u001b[0m\n\u001b[1;32m----> 1\u001b[1;33m \u001b[0msecurity_group2\u001b[0m\u001b[1;33m.\u001b[0m\u001b[0mdelete\u001b[0m\u001b[1;33m(\u001b[0m\u001b[1;33m)\u001b[0m\u001b[1;33m\u001b[0m\u001b[1;33m\u001b[0m\u001b[0m\n\u001b[0m",
      "\u001b[1;32md:\\Users\\jpgia\\Anaconda3\\lib\\site-packages\\boto3\\resources\\factory.py\u001b[0m in \u001b[0;36mdo_action\u001b[1;34m(self, *args, **kwargs)\u001b[0m\n\u001b[0;32m    518\u001b[0m             \u001b[1;31m# instance via ``self``.\u001b[0m\u001b[1;33m\u001b[0m\u001b[1;33m\u001b[0m\u001b[1;33m\u001b[0m\u001b[0m\n\u001b[0;32m    519\u001b[0m             \u001b[1;32mdef\u001b[0m \u001b[0mdo_action\u001b[0m\u001b[1;33m(\u001b[0m\u001b[0mself\u001b[0m\u001b[1;33m,\u001b[0m \u001b[1;33m*\u001b[0m\u001b[0margs\u001b[0m\u001b[1;33m,\u001b[0m \u001b[1;33m**\u001b[0m\u001b[0mkwargs\u001b[0m\u001b[1;33m)\u001b[0m\u001b[1;33m:\u001b[0m\u001b[1;33m\u001b[0m\u001b[1;33m\u001b[0m\u001b[0m\n\u001b[1;32m--> 520\u001b[1;33m                 \u001b[0mresponse\u001b[0m \u001b[1;33m=\u001b[0m \u001b[0maction\u001b[0m\u001b[1;33m(\u001b[0m\u001b[0mself\u001b[0m\u001b[1;33m,\u001b[0m \u001b[1;33m*\u001b[0m\u001b[0margs\u001b[0m\u001b[1;33m,\u001b[0m \u001b[1;33m**\u001b[0m\u001b[0mkwargs\u001b[0m\u001b[1;33m)\u001b[0m\u001b[1;33m\u001b[0m\u001b[1;33m\u001b[0m\u001b[0m\n\u001b[0m\u001b[0;32m    521\u001b[0m \u001b[1;33m\u001b[0m\u001b[0m\n\u001b[0;32m    522\u001b[0m                 \u001b[1;32mif\u001b[0m \u001b[0mhasattr\u001b[0m\u001b[1;33m(\u001b[0m\u001b[0mself\u001b[0m\u001b[1;33m,\u001b[0m \u001b[1;34m'load'\u001b[0m\u001b[1;33m)\u001b[0m\u001b[1;33m:\u001b[0m\u001b[1;33m\u001b[0m\u001b[1;33m\u001b[0m\u001b[0m\n",
      "\u001b[1;32md:\\Users\\jpgia\\Anaconda3\\lib\\site-packages\\boto3\\resources\\action.py\u001b[0m in \u001b[0;36m__call__\u001b[1;34m(self, parent, *args, **kwargs)\u001b[0m\n\u001b[0;32m     81\u001b[0m                      operation_name, params)\n\u001b[0;32m     82\u001b[0m \u001b[1;33m\u001b[0m\u001b[0m\n\u001b[1;32m---> 83\u001b[1;33m         \u001b[0mresponse\u001b[0m \u001b[1;33m=\u001b[0m \u001b[0mgetattr\u001b[0m\u001b[1;33m(\u001b[0m\u001b[0mparent\u001b[0m\u001b[1;33m.\u001b[0m\u001b[0mmeta\u001b[0m\u001b[1;33m.\u001b[0m\u001b[0mclient\u001b[0m\u001b[1;33m,\u001b[0m \u001b[0moperation_name\u001b[0m\u001b[1;33m)\u001b[0m\u001b[1;33m(\u001b[0m\u001b[1;33m*\u001b[0m\u001b[0margs\u001b[0m\u001b[1;33m,\u001b[0m \u001b[1;33m**\u001b[0m\u001b[0mparams\u001b[0m\u001b[1;33m)\u001b[0m\u001b[1;33m\u001b[0m\u001b[1;33m\u001b[0m\u001b[0m\n\u001b[0m\u001b[0;32m     84\u001b[0m \u001b[1;33m\u001b[0m\u001b[0m\n\u001b[0;32m     85\u001b[0m         \u001b[0mlogger\u001b[0m\u001b[1;33m.\u001b[0m\u001b[0mdebug\u001b[0m\u001b[1;33m(\u001b[0m\u001b[1;34m'Response: %r'\u001b[0m\u001b[1;33m,\u001b[0m \u001b[0mresponse\u001b[0m\u001b[1;33m)\u001b[0m\u001b[1;33m\u001b[0m\u001b[1;33m\u001b[0m\u001b[0m\n",
      "\u001b[1;32md:\\Users\\jpgia\\Anaconda3\\lib\\site-packages\\botocore\\client.py\u001b[0m in \u001b[0;36m_api_call\u001b[1;34m(self, *args, **kwargs)\u001b[0m\n\u001b[0;32m    386\u001b[0m                     \"%s() only accepts keyword arguments.\" % py_operation_name)\n\u001b[0;32m    387\u001b[0m             \u001b[1;31m# The \"self\" in this scope is referring to the BaseClient.\u001b[0m\u001b[1;33m\u001b[0m\u001b[1;33m\u001b[0m\u001b[1;33m\u001b[0m\u001b[0m\n\u001b[1;32m--> 388\u001b[1;33m             \u001b[1;32mreturn\u001b[0m \u001b[0mself\u001b[0m\u001b[1;33m.\u001b[0m\u001b[0m_make_api_call\u001b[0m\u001b[1;33m(\u001b[0m\u001b[0moperation_name\u001b[0m\u001b[1;33m,\u001b[0m \u001b[0mkwargs\u001b[0m\u001b[1;33m)\u001b[0m\u001b[1;33m\u001b[0m\u001b[1;33m\u001b[0m\u001b[0m\n\u001b[0m\u001b[0;32m    389\u001b[0m \u001b[1;33m\u001b[0m\u001b[0m\n\u001b[0;32m    390\u001b[0m         \u001b[0m_api_call\u001b[0m\u001b[1;33m.\u001b[0m\u001b[0m__name__\u001b[0m \u001b[1;33m=\u001b[0m \u001b[0mstr\u001b[0m\u001b[1;33m(\u001b[0m\u001b[0mpy_operation_name\u001b[0m\u001b[1;33m)\u001b[0m\u001b[1;33m\u001b[0m\u001b[1;33m\u001b[0m\u001b[0m\n",
      "\u001b[1;32md:\\Users\\jpgia\\Anaconda3\\lib\\site-packages\\botocore\\client.py\u001b[0m in \u001b[0;36m_make_api_call\u001b[1;34m(self, operation_name, api_params)\u001b[0m\n\u001b[0;32m    706\u001b[0m             \u001b[0merror_code\u001b[0m \u001b[1;33m=\u001b[0m \u001b[0mparsed_response\u001b[0m\u001b[1;33m.\u001b[0m\u001b[0mget\u001b[0m\u001b[1;33m(\u001b[0m\u001b[1;34m\"Error\"\u001b[0m\u001b[1;33m,\u001b[0m \u001b[1;33m{\u001b[0m\u001b[1;33m}\u001b[0m\u001b[1;33m)\u001b[0m\u001b[1;33m.\u001b[0m\u001b[0mget\u001b[0m\u001b[1;33m(\u001b[0m\u001b[1;34m\"Code\"\u001b[0m\u001b[1;33m)\u001b[0m\u001b[1;33m\u001b[0m\u001b[1;33m\u001b[0m\u001b[0m\n\u001b[0;32m    707\u001b[0m             \u001b[0merror_class\u001b[0m \u001b[1;33m=\u001b[0m \u001b[0mself\u001b[0m\u001b[1;33m.\u001b[0m\u001b[0mexceptions\u001b[0m\u001b[1;33m.\u001b[0m\u001b[0mfrom_code\u001b[0m\u001b[1;33m(\u001b[0m\u001b[0merror_code\u001b[0m\u001b[1;33m)\u001b[0m\u001b[1;33m\u001b[0m\u001b[1;33m\u001b[0m\u001b[0m\n\u001b[1;32m--> 708\u001b[1;33m             \u001b[1;32mraise\u001b[0m \u001b[0merror_class\u001b[0m\u001b[1;33m(\u001b[0m\u001b[0mparsed_response\u001b[0m\u001b[1;33m,\u001b[0m \u001b[0moperation_name\u001b[0m\u001b[1;33m)\u001b[0m\u001b[1;33m\u001b[0m\u001b[1;33m\u001b[0m\u001b[0m\n\u001b[0m\u001b[0;32m    709\u001b[0m         \u001b[1;32melse\u001b[0m\u001b[1;33m:\u001b[0m\u001b[1;33m\u001b[0m\u001b[1;33m\u001b[0m\u001b[0m\n\u001b[0;32m    710\u001b[0m             \u001b[1;32mreturn\u001b[0m \u001b[0mparsed_response\u001b[0m\u001b[1;33m\u001b[0m\u001b[1;33m\u001b[0m\u001b[0m\n",
      "\u001b[1;31mClientError\u001b[0m: An error occurred (DependencyViolation) when calling the DeleteSecurityGroup operation: resource sg-04820a29c081369a3 has a dependent object"
     ]
    }
   ],
   "source": [
    "security_group2.delete()"
   ]
  },
  {
   "cell_type": "code",
   "execution_count": null,
   "id": "5f81105b",
   "metadata": {},
   "outputs": [],
   "source": []
  }
 ],
 "metadata": {
  "kernelspec": {
   "display_name": "Python 3 (ipykernel)",
   "language": "python",
   "name": "python3"
  },
  "language_info": {
   "codemirror_mode": {
    "name": "ipython",
    "version": 3
   },
   "file_extension": ".py",
   "mimetype": "text/x-python",
   "name": "python",
   "nbconvert_exporter": "python",
   "pygments_lexer": "ipython3",
   "version": "3.7.1"
  }
 },
 "nbformat": 4,
 "nbformat_minor": 5
}
