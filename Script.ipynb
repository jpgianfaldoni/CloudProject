{
 "cells": [
  {
   "cell_type": "code",
   "execution_count": 39,
   "metadata": {},
   "outputs": [],
   "source": [
    "import boto3\n",
    "from botocore.config import Config\n",
    "import sys\n",
    "import os\n",
    "\n"
   ]
  },
  {
   "cell_type": "code",
   "execution_count": 40,
   "metadata": {},
   "outputs": [],
   "source": [
    "ohio_region  = Config(region_name=\"us-east-2\")\n",
    "north_virginia_region  = Config(region_name=\"us-east-1\")"
   ]
  },
  {
   "cell_type": "code",
   "execution_count": 41,
   "metadata": {},
   "outputs": [],
   "source": [
    "ohio_ec2 = boto3.resource('ec2', config=ohio_region)\n",
    "north_virginia_ec2 = boto3.resource('ec2', config=north_virginia_region)"
   ]
  },
  {
   "cell_type": "code",
   "execution_count": 42,
   "metadata": {},
   "outputs": [],
   "source": [
    "script_postgres = '''#!/bin/bash\n",
    "sudo apt update\n",
    "sudo apt install postgresql postgresql-contrib -y\n",
    "sudo -i -u postgres bash << EOF\n",
    "createuser -s cloud -W\n",
    "cloud\n",
    "createdb -O cloud tasks\n",
    "echo \"listen_addresses = '*'\" >>  /etc/postgresql/12/main/postgresql.conf\n",
    "echo \"host all all 0.0.0.0/0 trust\" >> /etc/postgresql/12/main/pg_hba.conf\n",
    "EOF\n",
    "sudo ufw allow 5432/tcp\n",
    "sudo systemctl restart postgresql'''\n",
    "\n"
   ]
  },
  {
   "cell_type": "code",
   "execution_count": 43,
   "metadata": {},
   "outputs": [],
   "source": [
    "script_mysql = '''#!/bin/bash\n",
    "sudo apt update\n",
    "sudo apt install mysql-server -y\n",
    "sudo mysql -uroot -e \"ALTER USER 'root'@'localhost' IDENTIFIED WITH mysql_native_password BY 'cloud';CREATE USER 'root'@'%' IDENTIFIED BY 'cloud';GRANT ALL PRIVILEGES ON *.* TO 'root'@'%';FLUSH PRIVILEGES;CREATE DATABASE tasks;\"\n",
    "sudo sed -i 's/bind-address/#banana/g' /etc/mysql/mysql.conf.d/mysqld.cnf\n",
    "sudo sed -i 's/mysqlx/#banana/g' /etc/mysql/mysql.conf.d/mysqld.cnf\n",
    "sudo ufw allow 3306/tcp\n",
    "sudo systemctl restart mysql\n",
    "'''\n"
   ]
  },
  {
   "cell_type": "code",
   "execution_count": 44,
   "metadata": {},
   "outputs": [],
   "source": [
    "security_group_iterator = ohio_ec2.security_groups.all()"
   ]
  },
  {
   "cell_type": "code",
   "execution_count": 45,
   "metadata": {},
   "outputs": [],
   "source": [
    "# security_group = ohio_ec2.create_security_group(\n",
    "#     Description='string',\n",
    "#     GroupName='SecurityGroup6',\n",
    "#     TagSpecifications=[\n",
    "#         {\n",
    "#             'ResourceType': 'security-group',\n",
    "#             'Tags': [\n",
    "#                 {\n",
    "#                     'Key': 'Name',\n",
    "#                     'Value': 'postgres'\n",
    "#                 },\n",
    "#             ]\n",
    "#         },\n",
    "#     ],\n",
    "# )\n",
    "\n",
    "\n",
    "\n",
    "\n",
    "# security_group.authorize_ingress(IpProtocol=\"tcp\",CidrIp=\"0.0.0.0/0\",FromPort=0,ToPort=10000)\n",
    "\n",
    "# security_group2 = north_virginia_ec2.create_security_group(\n",
    "#     Description='string',\n",
    "#     GroupName='SecurityGroup6',\n",
    "#     TagSpecifications=[\n",
    "#         {\n",
    "#             'ResourceType': 'security-group',\n",
    "#             'Tags': [\n",
    "#                 {\n",
    "#                     'Key': 'Name',\n",
    "#                     'Value': 'postgres'\n",
    "#                 },\n",
    "#             ]\n",
    "#         },\n",
    "#     ],\n",
    "# )\n",
    "\n",
    "\n",
    "\n",
    "\n",
    "# security_group2.authorize_ingress(IpProtocol=\"tcp\",CidrIp=\"0.0.0.0/0\",FromPort=0,ToPort=10000)\n"
   ]
  },
  {
   "cell_type": "code",
   "execution_count": 46,
   "metadata": {},
   "outputs": [],
   "source": [
    "instance_ohio = ohio_ec2.create_instances(\n",
    "        ImageId=\"ami-00399ec92321828f5\",\n",
    "        MinCount=1,\n",
    "        MaxCount=1,\n",
    "        InstanceType=\"t2.micro\",\n",
    "        KeyName=\"jpgianfaldoni\",\n",
    "        SecurityGroupIds = [security_group.group_id],\n",
    "        UserData = script_mysql\n",
    "    )\n",
    "\n"
   ]
  },
  {
   "cell_type": "code",
   "execution_count": 47,
   "metadata": {},
   "outputs": [],
   "source": [
    "instance_ohio[0].wait_until_running()\n",
    "instance_ohio[0].reload()\n",
    "public_ip_postgres = instance_ohio[0].public_ip_address\n"
   ]
  },
  {
   "cell_type": "code",
   "execution_count": 48,
   "metadata": {},
   "outputs": [
    {
     "name": "stdout",
     "output_type": "stream",
     "text": [
      "18.224.22.181\n"
     ]
    }
   ],
   "source": [
    "print(public_ip_postgres)"
   ]
  },
  {
   "cell_type": "code",
   "execution_count": 11,
   "metadata": {},
   "outputs": [],
   "source": [
    "script_django_postgres = f'''#!/bin/bash\n",
    "sudo apt update\n",
    "git clone https://github.com/raulikeda/tasks.git\n",
    "cd tasks\n",
    "sudo sed -i 's/node1/{public_ip_postgres}/g' portfolio/settings.py\n",
    "./install.sh\n",
    "sudo reboot\n",
    "'''"
   ]
  },
  {
   "cell_type": "code",
   "execution_count": 49,
   "metadata": {},
   "outputs": [],
   "source": [
    "script_django_mysql = f\"\"\"#!/bin/bash\n",
    "cd /home/ubuntu\n",
    "sudo apt update\n",
    "sudo apt-get install python3-dev default-libmysqlclient-dev build-essential -y\n",
    "git clone https://github.com/raulikeda/tasks.git\n",
    "cd tasks\n",
    "sudo sed -i 's/node1/{public_ip_postgres}/g' portfolio/settings.py\n",
    "sudo sed -i 's/django.db.backends.postgresql/django.db.backends.mysql/g' portfolio/settings.py\n",
    "sudo sed -i 's/5432/3306/g' portfolio/settings.py\n",
    "sudo sed -i \"s/'USER': 'cloud'/'USER': 'root'/g\" portfolio/settings.py\n",
    "echo \"mysqlclient\" >> requirements.txt\n",
    "./install.sh\n",
    "sudo reboot \n",
    "\"\"\""
   ]
  },
  {
   "cell_type": "code",
   "execution_count": 50,
   "metadata": {},
   "outputs": [],
   "source": [
    "north_virginia = north_virginia_ec2.create_instances(\n",
    "        ImageId=\"ami-09e67e426f25ce0d7\",\n",
    "        MinCount=1,\n",
    "        MaxCount=1,\n",
    "        InstanceType=\"t2.micro\",\n",
    "        KeyName=\"jpgianfaldoni\",\n",
    "        SecurityGroupIds = [security_group2.group_id],\n",
    "        UserData = script_django_mysql\n",
    "    )"
   ]
  },
  {
   "cell_type": "code",
   "execution_count": 53,
   "metadata": {},
   "outputs": [],
   "source": [
    "north_virginia[0].wait_until_running()\n",
    "north_virginia[0].reload()"
   ]
  },
  {
   "cell_type": "code",
   "execution_count": 54,
   "metadata": {},
   "outputs": [],
   "source": [
    "django_img = north_virginia[0].create_image(Name='django_img')\n"
   ]
  },
  {
   "cell_type": "code",
   "execution_count": 72,
   "metadata": {},
   "outputs": [
    {
     "name": "stdout",
     "output_type": "stream",
     "text": [
      "pending\n"
     ]
    }
   ],
   "source": [
    "print(django_img.state)\n",
    "django_img.reload()"
   ]
  },
  {
   "cell_type": "code",
   "execution_count": 58,
   "metadata": {},
   "outputs": [
    {
     "data": {
      "text/plain": [
       "{'TerminatingInstances': [{'CurrentState': {'Code': 32,\n",
       "    'Name': 'shutting-down'},\n",
       "   'InstanceId': 'i-05c8cc1cca308dd66',\n",
       "   'PreviousState': {'Code': 16, 'Name': 'running'}}],\n",
       " 'ResponseMetadata': {'RequestId': '1700807f-8c5f-4a27-9ad6-02e70faeca39',\n",
       "  'HTTPStatusCode': 200,\n",
       "  'HTTPHeaders': {'x-amzn-requestid': '1700807f-8c5f-4a27-9ad6-02e70faeca39',\n",
       "   'cache-control': 'no-cache, no-store',\n",
       "   'strict-transport-security': 'max-age=31536000; includeSubDomains',\n",
       "   'vary': 'accept-encoding',\n",
       "   'content-type': 'text/xml;charset=UTF-8',\n",
       "   'transfer-encoding': 'chunked',\n",
       "   'date': 'Tue, 09 Nov 2021 17:39:53 GMT',\n",
       "   'server': 'AmazonEC2'},\n",
       "  'RetryAttempts': 0}}"
      ]
     },
     "execution_count": 58,
     "metadata": {},
     "output_type": "execute_result"
    }
   ],
   "source": [
    "while django_img.state != 'available':\n",
    "    django_img.reload()\n",
    "north_virginia[0].terminate()"
   ]
  },
  {
   "cell_type": "code",
   "execution_count": 73,
   "metadata": {},
   "outputs": [
    {
     "name": "stdout",
     "output_type": "stream",
     "text": [
      "available\n"
     ]
    }
   ],
   "source": [
    "print(django_img.state)\n"
   ]
  },
  {
   "cell_type": "code",
   "execution_count": 59,
   "metadata": {},
   "outputs": [],
   "source": [
    "autoscaling  = boto3.client('autoscaling', config=north_virginia_region)\n",
    "elb = boto3.client('elbv2', config=north_virginia_region)\n"
   ]
  },
  {
   "cell_type": "code",
   "execution_count": 64,
   "metadata": {},
   "outputs": [],
   "source": [
    "create_launch_response = autoscaling.create_launch_configuration(\n",
    "    LaunchConfigurationName='LCV5',\n",
    "    ImageId= django_img.id,\n",
    "    KeyName='jpgianfaldoni',\n",
    "    SecurityGroups=[\n",
    "        security_group2.id,\n",
    "    ],\n",
    "    BlockDeviceMappings=[\n",
    "                        {\n",
    "                            'DeviceName': '/dev/sda1',\n",
    "                            'Ebs': {\n",
    "                                'DeleteOnTermination': True,\n",
    "                                'VolumeSize': 8,\n",
    "                                'VolumeType': 'gp2'\n",
    "                            },\n",
    "                        },\n",
    "                ],\n",
    "    InstanceType='t2.micro',\n",
    "    \n",
    ")\n"
   ]
  },
  {
   "cell_type": "code",
   "execution_count": 65,
   "metadata": {},
   "outputs": [],
   "source": [
    "create_autoscaling_response = autoscaling.create_auto_scaling_group(\n",
    "    AutoScalingGroupName='AutoScalingV5',\n",
    "    LaunchConfigurationName='LCV5',\n",
    "    MinSize=1,\n",
    "    MaxSize=3,\n",
    "    DesiredCapacity=3,\n",
    "    DefaultCooldown=60,\n",
    "    AvailabilityZones=[\n",
    "        'us-east-1a',\n",
    "        'us-east-1b',\n",
    "        'us-east-1c',\n",
    "        'us-east-1d',\n",
    "        'us-east-1e',\n",
    "        'us-east-1f',\n",
    "    ]\n",
    ")"
   ]
  },
  {
   "cell_type": "code",
   "execution_count": 79,
   "metadata": {},
   "outputs": [],
   "source": [
    "create_target_response = elb.create_target_group(\n",
    "    Name='Tgroup',\n",
    "    Protocol='HTTP',\n",
    "    Port=8080,\n",
    "    VpcId='vpc-ebd11591',\n",
    "    HealthCheckProtocol='HTTP',\n",
    "    HealthCheckEnabled=True,\n",
    "    HealthCheckIntervalSeconds=123,\n",
    "    HealthCheckTimeoutSeconds=60,\n",
    "    HealthyThresholdCount=5,\n",
    "    UnhealthyThresholdCount=5,\n",
    "    TargetType='instance',\n",
    "    IpAddressType='ipv4'\n",
    ")"
   ]
  },
  {
   "cell_type": "code",
   "execution_count": 81,
   "metadata": {},
   "outputs": [],
   "source": [
    "tg_arn = create_target_response['TargetGroups'][0]['TargetGroupArn']"
   ]
  },
  {
   "cell_type": "code",
   "execution_count": 87,
   "metadata": {},
   "outputs": [],
   "source": [
    "create_lb_response = elb.create_load_balancer(\n",
    "    Name='Elb',\n",
    "    Subnets=[\n",
    "        'subnet-54296d1e',\n",
    "        'subnet-7ebe0d50',\n",
    "    ],\n",
    "\n",
    "    SecurityGroups=[\n",
    "        security_group2.id,\n",
    "    ],\n",
    "    Type='application',\n",
    "    IpAddressType='ipv4',\n",
    ")"
   ]
  },
  {
   "cell_type": "code",
   "execution_count": 89,
   "metadata": {},
   "outputs": [],
   "source": [
    "lb_arn = create_lb_response['LoadBalancers'][0]['LoadBalancerArn']"
   ]
  },
  {
   "cell_type": "code",
   "execution_count": 85,
   "metadata": {},
   "outputs": [],
   "source": [
    "ab_response = autoscaling.attach_load_balancer_target_groups(\n",
    "    AutoScalingGroupName='AutoScalingV5',\n",
    "    TargetGroupARNs=[\n",
    "        tg_arn,\n",
    "    ]\n",
    ")"
   ]
  },
  {
   "cell_type": "code",
   "execution_count": 92,
   "metadata": {},
   "outputs": [],
   "source": [
    "listener_response = elb.create_listener(\n",
    "    LoadBalancerArn= lb_arn,\n",
    "    DefaultActions=[\n",
    "        {\n",
    "            'Type': 'forward',\n",
    "            'TargetGroupArn': tg_arn,\n",
    "        },\n",
    "    ],\n",
    "    Port = 80,\n",
    "    Protocol = 'HTTP',\n",
    ")"
   ]
  },
  {
   "cell_type": "code",
   "execution_count": null,
   "metadata": {},
   "outputs": [],
   "source": []
  }
 ],
 "metadata": {
  "kernelspec": {
   "display_name": "Python 3",
   "language": "python",
   "name": "python3"
  },
  "language_info": {
   "codemirror_mode": {
    "name": "ipython",
    "version": 3
   },
   "file_extension": ".py",
   "mimetype": "text/x-python",
   "name": "python",
   "nbconvert_exporter": "python",
   "pygments_lexer": "ipython3",
   "version": "3.7.1"
  }
 },
 "nbformat": 4,
 "nbformat_minor": 5
}
