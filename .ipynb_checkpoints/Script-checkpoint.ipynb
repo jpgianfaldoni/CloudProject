{
 "cells": [
  {
   "cell_type": "code",
   "execution_count": 134,
   "metadata": {},
   "outputs": [],
   "source": [
    "import boto3\n",
    "from botocore.config import Config\n",
    "import sys\n",
    "import os\n",
    "import time\n",
    "import requests\n",
    "from bs4 import BeautifulSoup\n"
   ]
  },
  {
   "cell_type": "code",
   "execution_count": 97,
   "metadata": {},
   "outputs": [],
   "source": [
    "ohio_region  = Config(region_name=\"us-east-2\")\n",
    "north_virginia_region  = Config(region_name=\"us-east-1\")"
   ]
  },
  {
   "cell_type": "code",
   "execution_count": 98,
   "metadata": {},
   "outputs": [],
   "source": [
    "ohio_ec2 = boto3.resource('ec2', config=ohio_region)\n",
    "north_virginia_ec2 = boto3.resource('ec2', config=north_virginia_region)"
   ]
  },
  {
   "cell_type": "code",
   "execution_count": 99,
   "metadata": {},
   "outputs": [],
   "source": [
    "script_postgres = '''#!/bin/bash\n",
    "sudo apt update\n",
    "sudo apt install postgresql postgresql-contrib -y\n",
    "sudo -i -u postgres bash << EOF\n",
    "createuser -s cloud -W\n",
    "cloud\n",
    "createdb -O cloud tasks\n",
    "echo \"listen_addresses = '*'\" >>  /etc/postgresql/12/main/postgresql.conf\n",
    "echo \"host all all 0.0.0.0/0 trust\" >> /etc/postgresql/12/main/pg_hba.conf\n",
    "EOF\n",
    "sudo ufw allow 5432/tcp\n",
    "sudo systemctl restart postgresql'''\n",
    "\n"
   ]
  },
  {
   "cell_type": "code",
   "execution_count": 100,
   "metadata": {},
   "outputs": [],
   "source": [
    "script_mysql = '''#!/bin/bash\n",
    "sudo apt update\n",
    "sudo apt install mysql-server -y\n",
    "sudo mysql -uroot -e \"ALTER USER 'root'@'localhost' IDENTIFIED WITH mysql_native_password BY 'cloud';CREATE USER 'root'@'%' IDENTIFIED BY 'cloud';GRANT ALL PRIVILEGES ON *.* TO 'root'@'%';FLUSH PRIVILEGES;CREATE DATABASE tasks;\"\n",
    "sudo sed -i 's/bind-address/#banana/g' /etc/mysql/mysql.conf.d/mysqld.cnf\n",
    "sudo sed -i 's/mysqlx/#banana/g' /etc/mysql/mysql.conf.d/mysqld.cnf\n",
    "sudo ufw allow 3306/tcp\n",
    "sudo systemctl restart mysql\n",
    "'''\n"
   ]
  },
  {
   "cell_type": "code",
   "execution_count": 101,
   "metadata": {},
   "outputs": [],
   "source": [
    "security_group_iterator = ohio_ec2.security_groups.all()"
   ]
  },
  {
   "cell_type": "code",
   "execution_count": 102,
   "metadata": {},
   "outputs": [
    {
     "data": {
      "text/plain": [
       "{'Return': True,\n",
       " 'SecurityGroupRules': [{'SecurityGroupRuleId': 'sgr-00d9deb951d932a47',\n",
       "   'GroupId': 'sg-0de21607b44a34e6e',\n",
       "   'GroupOwnerId': '903616414837',\n",
       "   'IsEgress': False,\n",
       "   'IpProtocol': 'tcp',\n",
       "   'FromPort': 0,\n",
       "   'ToPort': 10000,\n",
       "   'CidrIpv4': '0.0.0.0/0'}],\n",
       " 'ResponseMetadata': {'RequestId': 'd8228731-f915-40c8-a8b1-29b58e07b402',\n",
       "  'HTTPStatusCode': 200,\n",
       "  'HTTPHeaders': {'x-amzn-requestid': 'd8228731-f915-40c8-a8b1-29b58e07b402',\n",
       "   'cache-control': 'no-cache, no-store',\n",
       "   'strict-transport-security': 'max-age=31536000; includeSubDomains',\n",
       "   'content-type': 'text/xml;charset=UTF-8',\n",
       "   'content-length': '721',\n",
       "   'date': 'Wed, 17 Nov 2021 13:24:14 GMT',\n",
       "   'server': 'AmazonEC2'},\n",
       "  'RetryAttempts': 0}}"
      ]
     },
     "execution_count": 102,
     "metadata": {},
     "output_type": "execute_result"
    }
   ],
   "source": [
    "security_group = ohio_ec2.create_security_group(\n",
    "    Description='string',\n",
    "    GroupName='SecurityGroup4',\n",
    "    TagSpecifications=[\n",
    "        {\n",
    "            'ResourceType': 'security-group',\n",
    "            'Tags': [\n",
    "                {\n",
    "                    'Key': 'Name',\n",
    "                    'Value': 'mysql'\n",
    "                },\n",
    "            ]\n",
    "        },\n",
    "    ],\n",
    ")\n",
    "\n",
    "\n",
    "\n",
    "\n",
    "security_group.authorize_ingress(IpProtocol=\"tcp\",CidrIp=\"0.0.0.0/0\",FromPort=0,ToPort=10000)\n",
    "\n",
    "security_group2 = north_virginia_ec2.create_security_group(\n",
    "    Description='string',\n",
    "    GroupName='SecurityGroup4',\n",
    "    TagSpecifications=[\n",
    "        {\n",
    "            'ResourceType': 'security-group',\n",
    "            'Tags': [\n",
    "                {\n",
    "                    'Key': 'Name',\n",
    "                    'Value': 'mysql'\n",
    "                },\n",
    "            ]\n",
    "        },\n",
    "    ],\n",
    ")\n",
    "\n",
    "\n",
    "\n",
    "\n",
    "security_group2.authorize_ingress(IpProtocol=\"tcp\",CidrIp=\"0.0.0.0/0\",FromPort=0,ToPort=10000)\n"
   ]
  },
  {
   "cell_type": "code",
   "execution_count": 104,
   "metadata": {},
   "outputs": [],
   "source": [
    "instance_ohio = ohio_ec2.create_instances(\n",
    "        ImageId=\"ami-00399ec92321828f5\",\n",
    "        MinCount=1,\n",
    "        MaxCount=1,\n",
    "        InstanceType=\"t2.micro\",\n",
    "        KeyName=\"jpgianfaldoni\",\n",
    "        SecurityGroupIds = [security_group.group_id],\n",
    "        UserData = script_mysql\n",
    "    )\n",
    "\n"
   ]
  },
  {
   "cell_type": "code",
   "execution_count": 105,
   "metadata": {},
   "outputs": [],
   "source": [
    "instance_ohio[0].wait_until_running()\n",
    "instance_ohio[0].reload()\n",
    "public_ip_ohio = instance_ohio[0].public_ip_address\n",
    "time.sleep(60)"
   ]
  },
  {
   "cell_type": "code",
   "execution_count": 108,
   "metadata": {},
   "outputs": [
    {
     "name": "stdout",
     "output_type": "stream",
     "text": [
      "3.140.253.119\n"
     ]
    }
   ],
   "source": [
    "print(public_ip_ohio)"
   ]
  },
  {
   "cell_type": "code",
   "execution_count": 109,
   "metadata": {},
   "outputs": [],
   "source": [
    "script_django_mysql = f\"\"\"#!/bin/bash\n",
    "cd /home/ubuntu\n",
    "sudo apt update\n",
    "sudo apt-get install python3-dev default-libmysqlclient-dev build-essential -y\n",
    "git clone https://github.com/raulikeda/tasks.git\n",
    "cd tasks\n",
    "sudo sed -i 's/node1/{public_ip_ohio}/g' portfolio/settings.py\n",
    "sudo sed -i 's/django.db.backends.postgresql/django.db.backends.mysql/g' portfolio/settings.py\n",
    "sudo sed -i 's/5432/3306/g' portfolio/settings.py\n",
    "sudo sed -i \"s/'USER': 'cloud'/'USER': 'root'/g\" portfolio/settings.py\n",
    "echo \"mysqlclient\" >> requirements.txt\n",
    "./install.sh\n",
    "sudo reboot \n",
    "\"\"\""
   ]
  },
  {
   "cell_type": "code",
   "execution_count": 110,
   "metadata": {},
   "outputs": [],
   "source": [
    "north_virginia = north_virginia_ec2.create_instances(\n",
    "        ImageId=\"ami-09e67e426f25ce0d7\",\n",
    "        MinCount=1,\n",
    "        MaxCount=1,\n",
    "        InstanceType=\"t2.micro\",\n",
    "        KeyName=\"jpgianfaldoni\",\n",
    "        SecurityGroupIds = [security_group2.group_id],\n",
    "        UserData = script_django_mysql\n",
    "    )"
   ]
  },
  {
   "cell_type": "code",
   "execution_count": 111,
   "metadata": {},
   "outputs": [],
   "source": [
    "north_virginia[0].wait_until_running()\n",
    "north_virginia[0].reload()\n",
    "time.sleep(60)"
   ]
  },
  {
   "cell_type": "code",
   "execution_count": 112,
   "metadata": {},
   "outputs": [],
   "source": [
    "django_img = north_virginia[0].create_image(Name='django_img2')\n"
   ]
  },
  {
   "cell_type": "code",
   "execution_count": 113,
   "metadata": {},
   "outputs": [
    {
     "name": "stdout",
     "output_type": "stream",
     "text": [
      "pending\n"
     ]
    }
   ],
   "source": [
    "print(django_img.state)\n",
    "django_img.reload()"
   ]
  },
  {
   "cell_type": "code",
   "execution_count": 114,
   "metadata": {},
   "outputs": [
    {
     "data": {
      "text/plain": [
       "{'TerminatingInstances': [{'CurrentState': {'Code': 32,\n",
       "    'Name': 'shutting-down'},\n",
       "   'InstanceId': 'i-0f78567f4a674c1ff',\n",
       "   'PreviousState': {'Code': 16, 'Name': 'running'}}],\n",
       " 'ResponseMetadata': {'RequestId': '6a7b96af-7aca-450b-8e6b-78807fbbcbce',\n",
       "  'HTTPStatusCode': 200,\n",
       "  'HTTPHeaders': {'x-amzn-requestid': '6a7b96af-7aca-450b-8e6b-78807fbbcbce',\n",
       "   'cache-control': 'no-cache, no-store',\n",
       "   'strict-transport-security': 'max-age=31536000; includeSubDomains',\n",
       "   'vary': 'accept-encoding',\n",
       "   'content-type': 'text/xml;charset=UTF-8',\n",
       "   'transfer-encoding': 'chunked',\n",
       "   'date': 'Wed, 17 Nov 2021 13:39:47 GMT',\n",
       "   'server': 'AmazonEC2'},\n",
       "  'RetryAttempts': 0}}"
      ]
     },
     "execution_count": 114,
     "metadata": {},
     "output_type": "execute_result"
    }
   ],
   "source": [
    "while django_img.state != 'available':\n",
    "    django_img.reload()\n",
    "north_virginia[0].terminate()"
   ]
  },
  {
   "cell_type": "code",
   "execution_count": 115,
   "metadata": {},
   "outputs": [
    {
     "name": "stdout",
     "output_type": "stream",
     "text": [
      "available\n"
     ]
    }
   ],
   "source": [
    "print(django_img.state)\n"
   ]
  },
  {
   "cell_type": "code",
   "execution_count": 116,
   "metadata": {},
   "outputs": [],
   "source": [
    "autoscaling  = boto3.client('autoscaling', config=north_virginia_region)\n",
    "elb = boto3.client('elbv2', config=north_virginia_region)\n"
   ]
  },
  {
   "cell_type": "code",
   "execution_count": 163,
   "metadata": {},
   "outputs": [],
   "source": [
    "create_launch_response = autoscaling.create_launch_configuration(\n",
    "    LaunchConfigurationName='LCV888',\n",
    "    ImageId= django_img.id,\n",
    "    KeyName='jpgianfaldoni',\n",
    "    SecurityGroups=[\n",
    "        security_group2.id,\n",
    "    ],\n",
    "    BlockDeviceMappings=[\n",
    "                        {\n",
    "                            'DeviceName': '/dev/sda1',\n",
    "                            'Ebs': {\n",
    "                                'DeleteOnTermination': True,\n",
    "                                'VolumeSize': 8,\n",
    "                                'VolumeType': 'gp2'\n",
    "                            },\n",
    "                        },\n",
    "                ],\n",
    "    InstanceType='t2.micro',\n",
    "    \n",
    ")\n"
   ]
  },
  {
   "cell_type": "code",
   "execution_count": 164,
   "metadata": {},
   "outputs": [],
   "source": [
    "create_autoscaling_response = autoscaling.create_auto_scaling_group(\n",
    "    AutoScalingGroupName='AutoScalingV888',\n",
    "    LaunchConfigurationName='LCV888',\n",
    "    MinSize=1,\n",
    "    MaxSize=3,\n",
    "    DesiredCapacity=3,\n",
    "    DefaultCooldown=60,\n",
    "    AvailabilityZones=[\n",
    "        'us-east-1a',\n",
    "        'us-east-1b',\n",
    "        'us-east-1c',\n",
    "        'us-east-1d',\n",
    "        'us-east-1e',\n",
    "        'us-east-1f',\n",
    "    ]\n",
    ")"
   ]
  },
  {
   "cell_type": "code",
   "execution_count": 165,
   "metadata": {},
   "outputs": [],
   "source": [
    "create_target_response = elb.create_target_group(\n",
    "    Name='Tgroup3',\n",
    "    Protocol='HTTP',\n",
    "    Port=8080,\n",
    "    VpcId='vpc-ebd11591',\n",
    "    HealthCheckPath = '/tasks/',\n",
    "    HealthCheckProtocol='HTTP',\n",
    "    HealthCheckEnabled=True,\n",
    "    HealthCheckIntervalSeconds=120,\n",
    "    HealthCheckTimeoutSeconds=60,\n",
    "    HealthyThresholdCount=5,\n",
    "    UnhealthyThresholdCount=5,\n",
    "    TargetType='instance',\n",
    "    IpAddressType='ipv4'\n",
    ")"
   ]
  },
  {
   "cell_type": "code",
   "execution_count": 166,
   "metadata": {},
   "outputs": [],
   "source": [
    "tg_arn = create_target_response['TargetGroups'][0]['TargetGroupArn']"
   ]
  },
  {
   "cell_type": "code",
   "execution_count": 167,
   "metadata": {},
   "outputs": [],
   "source": [
    "create_lb_response = elb.create_load_balancer(\n",
    "    Name='Elb2',\n",
    "    Subnets=[\n",
    "        'subnet-54296d1e',\n",
    "        'subnet-7ebe0d50',\n",
    "        'subnet-13fa4b4f',\n",
    "        'subnet-e0f44387',\n",
    "        'subnet-51976d6f ',\n",
    "    ],\n",
    "\n",
    "    SecurityGroups=[\n",
    "        security_group2.id,\n",
    "    ],\n",
    "    Type='application',\n",
    "    IpAddressType='ipv4',\n",
    ")"
   ]
  },
  {
   "cell_type": "code",
   "execution_count": 168,
   "metadata": {},
   "outputs": [],
   "source": [
    "lb_arn = create_lb_response['LoadBalancers'][0]['LoadBalancerArn']"
   ]
  },
  {
   "cell_type": "code",
   "execution_count": 169,
   "metadata": {},
   "outputs": [],
   "source": [
    "ab_response = autoscaling.attach_load_balancer_target_groups(\n",
    "    AutoScalingGroupName='AutoScalingV888',\n",
    "    TargetGroupARNs=[\n",
    "        tg_arn,\n",
    "    ]\n",
    ")"
   ]
  },
  {
   "cell_type": "code",
   "execution_count": 170,
   "metadata": {},
   "outputs": [],
   "source": [
    "listener_response = elb.create_listener(\n",
    "    LoadBalancerArn= lb_arn,\n",
    "    DefaultActions=[\n",
    "        {\n",
    "            'Type': 'forward',\n",
    "            'TargetGroupArn': tg_arn,\n",
    "        },\n",
    "    ],\n",
    "    Port = 80,\n",
    "    Protocol = 'HTTP',\n",
    ")"
   ]
  },
  {
   "cell_type": "code",
   "execution_count": 171,
   "metadata": {},
   "outputs": [],
   "source": [
    "lb_url = create_lb_response['LoadBalancers'][0]['DNSName']\n"
   ]
  },
  {
   "cell_type": "code",
   "execution_count": 172,
   "metadata": {},
   "outputs": [],
   "source": [
    "URL = f\"http://{lb_url}/admin/\""
   ]
  },
  {
   "cell_type": "code",
   "execution_count": 175,
   "metadata": {},
   "outputs": [
    {
     "data": {
      "text/plain": [
       "'http://Elb2-598816760.us-east-1.elb.amazonaws.com/admin/'"
      ]
     },
     "execution_count": 175,
     "metadata": {},
     "output_type": "execute_result"
    }
   ],
   "source": [
    "URL"
   ]
  },
  {
   "cell_type": "code",
   "execution_count": 200,
   "metadata": {},
   "outputs": [],
   "source": [
    "client = requests.session()\n",
    "\n",
    "client.get(URL)  # sets cookie\n",
    "if 'csrftoken' in client.cookies:\n",
    "    # Django 1.6 and up\n",
    "    csrftoken = client.cookies['csrftoken']\n",
    "else:\n",
    "    # older versions\n",
    "    csrftoken = client.cookies['csrf']\n",
    "\n",
    "    \n",
    "login_data = dict(Username='cloud', Password='cloud', csrfmiddlewaretoken=csrftoken, next='/')\n",
    "r = client.post(URL, data=login_data, headers=dict(Referer=URL))"
   ]
  },
  {
   "cell_type": "code",
   "execution_count": 201,
   "metadata": {},
   "outputs": [
    {
     "name": "stdout",
     "output_type": "stream",
     "text": [
      "<!DOCTYPE html>\n",
      "\n",
      "<html lang=\"en-us\" dir=\"ltr\">\n",
      "<head>\n",
      "<title>Log in | Django site admin</title>\n",
      "<link rel=\"stylesheet\" type=\"text/css\" href=\"/static/admin/css/base.css\">\n",
      "\n",
      "  <link rel=\"stylesheet\" type=\"text/css\" href=\"/static/admin/css/nav_sidebar.css\">\n",
      "  <script src=\"/static/admin/js/nav_sidebar.js\" defer></script>\n",
      "\n",
      "<link rel=\"stylesheet\" type=\"text/css\" href=\"/static/admin/css/login.css\">\n",
      "\n",
      "\n",
      "\n",
      "\n",
      "\n",
      "    <meta name=\"viewport\" content=\"user-scalable=no, width=device-width, initial-scale=1.0, maximum-scale=1.0\">\n",
      "    <link rel=\"stylesheet\" type=\"text/css\" href=\"/static/admin/css/responsive.css\">\n",
      "    \n",
      "\n",
      "<meta name=\"robots\" content=\"NONE,NOARCHIVE\">\n",
      "</head>\n",
      "\n",
      "\n",
      "<body class=\" login\"\n",
      "  data-admin-utc-offset=\"0\">\n",
      "\n",
      "<!-- Container -->\n",
      "<div id=\"container\">\n",
      "\n",
      "    \n",
      "    <!-- Header -->\n",
      "    <div id=\"header\">\n",
      "        <div id=\"branding\">\n",
      "        \n",
      "<h1 id=\"site-name\"><a href=\"/admin/\">Django administration</a></h1>\n",
      "\n",
      "        </div>\n",
      "        \n",
      "        \n",
      "    </div>\n",
      "    <!-- END Header -->\n",
      "    \n",
      "    \n",
      "\n",
      "    <div class=\"main shifted\" id=\"main\">\n",
      "      \n",
      "        \n",
      "      \n",
      "      <div class=\"content\">\n",
      "        \n",
      "          \n",
      "        \n",
      "        <!-- Content -->\n",
      "        <div id=\"content\" class=\"colM\">\n",
      "          \n",
      "          \n",
      "          \n",
      "          \n",
      "\n",
      "\n",
      "\n",
      "\n",
      "<div id=\"content-main\">\n",
      "\n",
      "\n",
      "\n",
      "<form action=\"/admin/login/?next=/admin/\" method=\"post\" id=\"login-form\"><input type=\"hidden\" name=\"csrfmiddlewaretoken\" value=\"Raw5HqBye9rlYBCkBXRvRzQz0u5tCnPZJXVdljqcxbKaMDq2Pt8XZtQeKi3cdPSF\">\n",
      "  <div class=\"form-row\">\n",
      "    \n",
      "    <label class=\"required\" for=\"id_username\">Username:</label> <input type=\"text\" name=\"username\" autofocus autocapitalize=\"none\" autocomplete=\"username\" maxlength=\"150\" required id=\"id_username\">\n",
      "  </div>\n",
      "  <div class=\"form-row\">\n",
      "    \n",
      "    <label class=\"required\" for=\"id_password\">Password:</label> <input type=\"password\" name=\"password\" autocomplete=\"current-password\" required id=\"id_password\">\n",
      "    <input type=\"hidden\" name=\"next\" value=\"/admin/\">\n",
      "  </div>\n",
      "  \n",
      "  \n",
      "  <div class=\"submit-row\">\n",
      "    <input type=\"submit\" value=\"Log in\">\n",
      "  </div>\n",
      "</form>\n",
      "\n",
      "</div>\n",
      "\n",
      "          \n",
      "          <br class=\"clear\">\n",
      "        </div>\n",
      "        <!-- END Content -->\n",
      "        <div id=\"footer\"></div>\n",
      "      </div>\n",
      "    </div>\n",
      "</div>\n",
      "<!-- END Container -->\n",
      "</body>\n",
      "</html>\n",
      "\n"
     ]
    }
   ],
   "source": [
    "print(r.text)"
   ]
  },
  {
   "cell_type": "code",
   "execution_count": 185,
   "metadata": {},
   "outputs": [],
   "source": [
    "URL2 = 'http://elb2-598816760.us-east-1.elb.amazonaws.com/admin/auth/user/add/'\n"
   ]
  },
  {
   "cell_type": "code",
   "execution_count": 189,
   "metadata": {},
   "outputs": [],
   "source": [
    "post_data = dict(username='Joao', password1='Banana7777',password2 ='Banana7777',  csrfmiddlewaretoken=csrftoken, next='/')\n",
    "r2 = client.post(URL2, data=post_data, headers=dict(Referer=URL2))"
   ]
  },
  {
   "cell_type": "code",
   "execution_count": 198,
   "metadata": {},
   "outputs": [],
   "source": [
    "def add_user(URL, username, password1, password2):\n",
    "    client = requests.session()\n",
    "    client.get(URL)  # sets cookie\n",
    "    if 'csrftoken' in client.cookies:\n",
    "        # Django 1.6 and up\n",
    "        csrftoken = client.cookies['csrftoken']\n",
    "    else:\n",
    "        # older versions\n",
    "        csrftoken = client.cookies['csrf']\n",
    "    post_data = dict(username=username, password1=password1,password2 =password2, csrfmiddlewaretoken=csrftoken, _save = 'Save' )\n",
    "    r2 = client.post(URL, data=post_data, headers=dict(Referer=URL))\n",
    "    return r2.text\n",
    "    "
   ]
  },
  {
   "cell_type": "code",
   "execution_count": 199,
   "metadata": {},
   "outputs": [
    {
     "name": "stdout",
     "output_type": "stream",
     "text": [
      "<!DOCTYPE html>\n",
      "\n",
      "<html lang=\"en-us\" dir=\"ltr\">\n",
      "<head>\n",
      "<title>Log in | Django site admin</title>\n",
      "<link rel=\"stylesheet\" type=\"text/css\" href=\"/static/admin/css/base.css\">\n",
      "\n",
      "  <link rel=\"stylesheet\" type=\"text/css\" href=\"/static/admin/css/nav_sidebar.css\">\n",
      "  <script src=\"/static/admin/js/nav_sidebar.js\" defer></script>\n",
      "\n",
      "<link rel=\"stylesheet\" type=\"text/css\" href=\"/static/admin/css/login.css\">\n",
      "\n",
      "\n",
      "\n",
      "\n",
      "\n",
      "    <meta name=\"viewport\" content=\"user-scalable=no, width=device-width, initial-scale=1.0, maximum-scale=1.0\">\n",
      "    <link rel=\"stylesheet\" type=\"text/css\" href=\"/static/admin/css/responsive.css\">\n",
      "    \n",
      "\n",
      "<meta name=\"robots\" content=\"NONE,NOARCHIVE\">\n",
      "</head>\n",
      "\n",
      "\n",
      "<body class=\" login\"\n",
      "  data-admin-utc-offset=\"0\">\n",
      "\n",
      "<!-- Container -->\n",
      "<div id=\"container\">\n",
      "\n",
      "    \n",
      "    <!-- Header -->\n",
      "    <div id=\"header\">\n",
      "        <div id=\"branding\">\n",
      "        \n",
      "<h1 id=\"site-name\"><a href=\"/admin/\">Django administration</a></h1>\n",
      "\n",
      "        </div>\n",
      "        \n",
      "        \n",
      "    </div>\n",
      "    <!-- END Header -->\n",
      "    \n",
      "    \n",
      "\n",
      "    <div class=\"main shifted\" id=\"main\">\n",
      "      \n",
      "        \n",
      "      \n",
      "      <div class=\"content\">\n",
      "        \n",
      "          \n",
      "        \n",
      "        <!-- Content -->\n",
      "        <div id=\"content\" class=\"colM\">\n",
      "          \n",
      "          \n",
      "          \n",
      "          \n",
      "\n",
      "\n",
      "\n",
      "\n",
      "<div id=\"content-main\">\n",
      "\n",
      "\n",
      "\n",
      "<form action=\"/admin/login/?next=/admin/auth/user/add/\" method=\"post\" id=\"login-form\"><input type=\"hidden\" name=\"csrfmiddlewaretoken\" value=\"2KMXanc3lMKDRZlo59G9FD4SusMgQ5JcMad9JWPQFFWDvNwRE34jydXFYM87Sulo\">\n",
      "  <div class=\"form-row\">\n",
      "    \n",
      "    <label class=\"required\" for=\"id_username\">Username:</label> <input type=\"text\" name=\"username\" autofocus autocapitalize=\"none\" autocomplete=\"username\" maxlength=\"150\" required id=\"id_username\">\n",
      "  </div>\n",
      "  <div class=\"form-row\">\n",
      "    \n",
      "    <label class=\"required\" for=\"id_password\">Password:</label> <input type=\"password\" name=\"password\" autocomplete=\"current-password\" required id=\"id_password\">\n",
      "    <input type=\"hidden\" name=\"next\" value=\"/admin/auth/user/add/\">\n",
      "  </div>\n",
      "  \n",
      "  \n",
      "  <div class=\"submit-row\">\n",
      "    <input type=\"submit\" value=\"Log in\">\n",
      "  </div>\n",
      "</form>\n",
      "\n",
      "</div>\n",
      "\n",
      "          \n",
      "          <br class=\"clear\">\n",
      "        </div>\n",
      "        <!-- END Content -->\n",
      "        <div id=\"footer\"></div>\n",
      "      </div>\n",
      "    </div>\n",
      "</div>\n",
      "<!-- END Container -->\n",
      "</body>\n",
      "</html>\n",
      "\n"
     ]
    }
   ],
   "source": [
    "print(add_user('http://elb2-598816760.us-east-1.elb.amazonaws.com/admin/auth/user/add/', 'Joao2', 'Banana888', 'Banana888'))"
   ]
  },
  {
   "cell_type": "code",
   "execution_count": null,
   "metadata": {},
   "outputs": [],
   "source": []
  }
 ],
 "metadata": {
  "kernelspec": {
   "display_name": "Python 3",
   "language": "python",
   "name": "python3"
  },
  "language_info": {
   "codemirror_mode": {
    "name": "ipython",
    "version": 3
   },
   "file_extension": ".py",
   "mimetype": "text/x-python",
   "name": "python",
   "nbconvert_exporter": "python",
   "pygments_lexer": "ipython3",
   "version": "3.7.1"
  }
 },
 "nbformat": 4,
 "nbformat_minor": 5
}
