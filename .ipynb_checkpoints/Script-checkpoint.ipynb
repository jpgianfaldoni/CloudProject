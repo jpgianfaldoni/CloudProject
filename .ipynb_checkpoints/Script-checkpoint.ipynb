{
 "cells": [
  {
   "cell_type": "code",
   "execution_count": 1,
   "id": "dcdba32e",
   "metadata": {},
   "outputs": [],
   "source": [
    "import boto3\n",
    "from botocore.config import Config\n",
    "import sys\n",
    "import os\n",
    "import time\n",
    "import requests\n",
    "from bs4 import BeautifulSoup\n"
   ]
  },
  {
   "cell_type": "code",
   "execution_count": 2,
   "id": "245446d8",
   "metadata": {},
   "outputs": [],
   "source": [
    "ohio_region  = Config(region_name=\"us-east-2\")\n",
    "north_virginia_region  = Config(region_name=\"us-east-1\")"
   ]
  },
  {
   "cell_type": "code",
   "execution_count": 3,
   "id": "398b7413",
   "metadata": {},
   "outputs": [],
   "source": [
    "ohio_ec2 = boto3.resource('ec2', config=ohio_region)\n",
    "north_virginia_ec2 = boto3.resource('ec2', config=north_virginia_region)"
   ]
  },
  {
   "cell_type": "code",
   "execution_count": 5,
   "id": "a846934e",
   "metadata": {},
   "outputs": [],
   "source": [
    "script_mysql = '''#!/bin/bash\n",
    "sudo apt update\n",
    "sudo apt install mysql-server -y\n",
    "sudo mysql -uroot -e \"ALTER USER 'root'@'localhost' IDENTIFIED WITH mysql_native_password BY 'cloud';CREATE USER 'root'@'%' IDENTIFIED BY 'cloud';GRANT ALL PRIVILEGES ON *.* TO 'root'@'%';FLUSH PRIVILEGES;CREATE DATABASE tasks;\"\n",
    "sudo sed -i 's/bind-address/#banana/g' /etc/mysql/mysql.conf.d/mysqld.cnf\n",
    "sudo sed -i 's/mysqlx/#banana/g' /etc/mysql/mysql.conf.d/mysqld.cnf\n",
    "sudo ufw allow 3306/tcp\n",
    "sudo systemctl restart mysql\n",
    "'''"
   ]
  },
  {
   "cell_type": "code",
   "execution_count": 8,
   "id": "f9d7555d",
   "metadata": {},
   "outputs": [
    {
     "data": {
      "text/plain": [
       "{'Return': True,\n",
       " 'SecurityGroupRules': [{'SecurityGroupRuleId': 'sgr-0714306fbd1f63d60',\n",
       "   'GroupId': 'sg-0a801d262b45d0122',\n",
       "   'GroupOwnerId': '903616414837',\n",
       "   'IsEgress': False,\n",
       "   'IpProtocol': 'tcp',\n",
       "   'FromPort': 0,\n",
       "   'ToPort': 10000,\n",
       "   'CidrIpv4': '0.0.0.0/0'}],\n",
       " 'ResponseMetadata': {'RequestId': 'b1261a33-59f1-404c-85df-0e9b206cb952',\n",
       "  'HTTPStatusCode': 200,\n",
       "  'HTTPHeaders': {'x-amzn-requestid': 'b1261a33-59f1-404c-85df-0e9b206cb952',\n",
       "   'cache-control': 'no-cache, no-store',\n",
       "   'strict-transport-security': 'max-age=31536000; includeSubDomains',\n",
       "   'content-type': 'text/xml;charset=UTF-8',\n",
       "   'content-length': '721',\n",
       "   'date': 'Tue, 23 Nov 2021 16:38:56 GMT',\n",
       "   'server': 'AmazonEC2'},\n",
       "  'RetryAttempts': 0}}"
      ]
     },
     "execution_count": 8,
     "metadata": {},
     "output_type": "execute_result"
    }
   ],
   "source": [
    "security_group = ohio_ec2.create_security_group(\n",
    "    Description='string',\n",
    "    GroupName='SecurityGroup7',\n",
    "    TagSpecifications=[\n",
    "        {\n",
    "            'ResourceType': 'security-group',\n",
    "            'Tags': [\n",
    "                {\n",
    "                    'Key': 'Name',\n",
    "                    'Value': 'mysql'\n",
    "                },\n",
    "            ]\n",
    "        },\n",
    "    ],\n",
    ")\n",
    "\n",
    "\n",
    "\n",
    "\n",
    "security_group.authorize_ingress(IpProtocol=\"tcp\",CidrIp=\"0.0.0.0/0\",FromPort=0,ToPort=10000)\n",
    "\n",
    "security_group2 = north_virginia_ec2.create_security_group(\n",
    "    Description='string',\n",
    "    GroupName='SecurityGroup7',\n",
    "    TagSpecifications=[\n",
    "        {\n",
    "            'ResourceType': 'security-group',\n",
    "            'Tags': [\n",
    "                {\n",
    "                    'Key': 'Name',\n",
    "                    'Value': 'mysql'\n",
    "                },\n",
    "            ]\n",
    "        },\n",
    "    ],\n",
    ")\n",
    "\n",
    "\n",
    "\n",
    "\n",
    "security_group2.authorize_ingress(IpProtocol=\"tcp\",CidrIp=\"0.0.0.0/0\",FromPort=0,ToPort=10000)"
   ]
  },
  {
   "cell_type": "code",
   "execution_count": 12,
   "id": "fe49e38d",
   "metadata": {},
   "outputs": [],
   "source": [
    "instance_ohio = ohio_ec2.create_instances(\n",
    "        ImageId=\"ami-00399ec92321828f5\",\n",
    "        MinCount=1,\n",
    "        MaxCount=1,\n",
    "        InstanceType=\"t2.micro\",\n",
    "        KeyName=\"jpgianfaldoni\",\n",
    "        SecurityGroupIds = [security_group.group_id],\n",
    "        UserData = script_mysql\n",
    "    )\n",
    "\n"
   ]
  },
  {
   "cell_type": "code",
   "execution_count": 11,
   "id": "ec40fa39",
   "metadata": {},
   "outputs": [],
   "source": [
    "instance_ohio[0].wait_until_running()\n",
    "instance_ohio[0].reload()\n",
    "public_ip_ohio = instance_ohio[0].public_ip_address\n",
    "time.sleep(60)"
   ]
  },
  {
   "cell_type": "code",
   "execution_count": 15,
   "id": "a28a63cc",
   "metadata": {},
   "outputs": [],
   "source": [
    "script_django_mysql = f\"\"\"#!/bin/bash\n",
    "cd /home/ubuntu\n",
    "sudo apt update\n",
    "sudo apt-get install python3-dev default-libmysqlclient-dev build-essential -y\n",
    "git clone https://github.com/raulikeda/tasks.git\n",
    "cd tasks\n",
    "sudo sed -i 's/node1/{public_ip_ohio}/g' portfolio/settings.py\n",
    "sudo sed -i 's/django.db.backends.postgresql/django.db.backends.mysql/g' portfolio/settings.py\n",
    "sudo sed -i 's/5432/3306/g' portfolio/settings.py\n",
    "sudo sed -i \"s/'USER': 'cloud'/'USER': 'root'/g\" portfolio/settings.py\n",
    "echo \"mysqlclient\" >> requirements.txt\n",
    "./install.sh\n",
    "sudo reboot \n",
    "\"\"\""
   ]
  },
  {
   "cell_type": "code",
   "execution_count": 16,
   "id": "ac809070",
   "metadata": {},
   "outputs": [],
   "source": [
    "north_virginia = north_virginia_ec2.create_instances(\n",
    "        ImageId=\"ami-09e67e426f25ce0d7\",\n",
    "        MinCount=1,\n",
    "        MaxCount=1,\n",
    "        InstanceType=\"t2.micro\",\n",
    "        KeyName=\"jpgianfaldoni\",\n",
    "        SecurityGroupIds = [security_group2.group_id],\n",
    "        UserData = script_django_mysql\n",
    "    )"
   ]
  },
  {
   "cell_type": "code",
   "execution_count": 17,
   "id": "2dfeb82b",
   "metadata": {},
   "outputs": [],
   "source": [
    "north_virginia[0].wait_until_running()\n",
    "north_virginia[0].reload()\n",
    "time.sleep(180)"
   ]
  },
  {
   "cell_type": "code",
   "execution_count": 18,
   "id": "196044e5",
   "metadata": {},
   "outputs": [
    {
     "data": {
      "text/plain": [
       "<Response [200]>"
      ]
     },
     "execution_count": 18,
     "metadata": {},
     "output_type": "execute_result"
    }
   ],
   "source": [
    "client_django = requests.session()\n",
    "client_django.get('http://18.234.150.64:8080/tasks/') "
   ]
  },
  {
   "cell_type": "code",
   "execution_count": 20,
   "id": "f8f69336",
   "metadata": {},
   "outputs": [],
   "source": [
    "django_img = north_virginia[0].create_image(Name='django_img3')\n"
   ]
  },
  {
   "cell_type": "code",
   "execution_count": 22,
   "id": "70400658",
   "metadata": {},
   "outputs": [
    {
     "data": {
      "text/plain": [
       "{'TerminatingInstances': [{'CurrentState': {'Code': 32,\n",
       "    'Name': 'shutting-down'},\n",
       "   'InstanceId': 'i-03dedf60ad95ba82b',\n",
       "   'PreviousState': {'Code': 16, 'Name': 'running'}}],\n",
       " 'ResponseMetadata': {'RequestId': '7da0dcc1-3ac9-44a4-a6b6-d2b7d6b9c65c',\n",
       "  'HTTPStatusCode': 200,\n",
       "  'HTTPHeaders': {'x-amzn-requestid': '7da0dcc1-3ac9-44a4-a6b6-d2b7d6b9c65c',\n",
       "   'cache-control': 'no-cache, no-store',\n",
       "   'strict-transport-security': 'max-age=31536000; includeSubDomains',\n",
       "   'vary': 'accept-encoding',\n",
       "   'content-type': 'text/xml;charset=UTF-8',\n",
       "   'transfer-encoding': 'chunked',\n",
       "   'date': 'Tue, 23 Nov 2021 16:51:38 GMT',\n",
       "   'server': 'AmazonEC2'},\n",
       "  'RetryAttempts': 0}}"
      ]
     },
     "execution_count": 22,
     "metadata": {},
     "output_type": "execute_result"
    }
   ],
   "source": [
    "while django_img.state != 'available':\n",
    "    django_img.reload()\n",
    "north_virginia[0].terminate()"
   ]
  },
  {
   "cell_type": "code",
   "execution_count": 24,
   "id": "cabe2630",
   "metadata": {},
   "outputs": [],
   "source": [
    "autoscaling  = boto3.client('autoscaling', config=north_virginia_region)\n",
    "elb = boto3.client('elbv2', config=north_virginia_region)\n"
   ]
  },
  {
   "cell_type": "code",
   "execution_count": 25,
   "id": "fa4b1313",
   "metadata": {},
   "outputs": [],
   "source": [
    "create_launch_response = autoscaling.create_launch_configuration(\n",
    "    LaunchConfigurationName='LCV999',\n",
    "    ImageId= django_img.id,\n",
    "    KeyName='jpgianfaldoni',\n",
    "    SecurityGroups=[\n",
    "        security_group2.id,\n",
    "    ],\n",
    "    BlockDeviceMappings=[\n",
    "                        {\n",
    "                            'DeviceName': '/dev/sda1',\n",
    "                            'Ebs': {\n",
    "                                'DeleteOnTermination': True,\n",
    "                                'VolumeSize': 8,\n",
    "                                'VolumeType': 'gp2'\n",
    "                            },\n",
    "                        },\n",
    "                ],\n",
    "    InstanceType='t2.micro',\n",
    "    \n",
    ")\n"
   ]
  },
  {
   "cell_type": "code",
   "execution_count": 26,
   "id": "1ec66ca2",
   "metadata": {},
   "outputs": [],
   "source": [
    "create_autoscaling_response = autoscaling.create_auto_scaling_group(\n",
    "    AutoScalingGroupName='AutoScalingV1',\n",
    "    LaunchConfigurationName='LCV999',\n",
    "    MinSize=1,\n",
    "    MaxSize=3,\n",
    "    DesiredCapacity=3,\n",
    "    DefaultCooldown=60,\n",
    "    AvailabilityZones=[\n",
    "        'us-east-1a',\n",
    "        'us-east-1b',\n",
    "        'us-east-1c',\n",
    "        'us-east-1d',\n",
    "        'us-east-1e',\n",
    "        'us-east-1f',\n",
    "    ]\n",
    ")"
   ]
  },
  {
   "cell_type": "code",
   "execution_count": 27,
   "id": "ba353789",
   "metadata": {},
   "outputs": [],
   "source": [
    "create_target_response = elb.create_target_group(\n",
    "    Name='Tgroup5',\n",
    "    Protocol='HTTP',\n",
    "    Port=8080,\n",
    "    VpcId='vpc-ebd11591',\n",
    "    HealthCheckPath = '/tasks/',\n",
    "    HealthCheckProtocol='HTTP',\n",
    "    HealthCheckEnabled=True,\n",
    "    HealthCheckIntervalSeconds=30,\n",
    "    HealthCheckTimeoutSeconds=15,\n",
    "    HealthyThresholdCount=5,\n",
    "    UnhealthyThresholdCount=5,\n",
    "    TargetType='instance',\n",
    "    IpAddressType='ipv4'\n",
    ")"
   ]
  },
  {
   "cell_type": "code",
   "execution_count": 28,
   "id": "6143f4c9",
   "metadata": {},
   "outputs": [],
   "source": [
    "tg_arn = create_target_response['TargetGroups'][0]['TargetGroupArn']"
   ]
  },
  {
   "cell_type": "code",
   "execution_count": 29,
   "id": "2c93f432",
   "metadata": {},
   "outputs": [],
   "source": [
    "create_lb_response = elb.create_load_balancer(\n",
    "    Name='Elb3',\n",
    "    Subnets=[\n",
    "        'subnet-54296d1e',\n",
    "        'subnet-7ebe0d50',\n",
    "        'subnet-13fa4b4f',\n",
    "        'subnet-e0f44387',\n",
    "    ],\n",
    "\n",
    "    SecurityGroups=[\n",
    "        security_group2.id,\n",
    "    ],\n",
    "    Type='application',\n",
    "    IpAddressType='ipv4',\n",
    ")"
   ]
  },
  {
   "cell_type": "code",
   "execution_count": 30,
   "id": "2b1fd3e1",
   "metadata": {},
   "outputs": [],
   "source": [
    "lb_arn = create_lb_response['LoadBalancers'][0]['LoadBalancerArn']"
   ]
  },
  {
   "cell_type": "code",
   "execution_count": 31,
   "id": "30ae2c5b",
   "metadata": {},
   "outputs": [],
   "source": [
    "ab_response = autoscaling.attach_load_balancer_target_groups(\n",
    "    AutoScalingGroupName='AutoScalingV1',\n",
    "    TargetGroupARNs=[\n",
    "        tg_arn,\n",
    "    ]\n",
    ")"
   ]
  },
  {
   "cell_type": "code",
   "execution_count": 32,
   "id": "ee418e9e",
   "metadata": {},
   "outputs": [],
   "source": [
    "listener_response = elb.create_listener(\n",
    "    LoadBalancerArn= lb_arn,\n",
    "    DefaultActions=[\n",
    "        {\n",
    "            'Type': 'forward',\n",
    "            'TargetGroupArn': tg_arn,\n",
    "        },\n",
    "    ],\n",
    "    Port = 80,\n",
    "    Protocol = 'HTTP',\n",
    ")"
   ]
  },
  {
   "cell_type": "code",
   "execution_count": 33,
   "id": "ccb1fb3f",
   "metadata": {},
   "outputs": [
    {
     "data": {
      "text/plain": [
       "'Elb3-1698200571.us-east-1.elb.amazonaws.com'"
      ]
     },
     "execution_count": 33,
     "metadata": {},
     "output_type": "execute_result"
    }
   ],
   "source": [
    "lb_url = create_lb_response['LoadBalancers'][0]['DNSName']\n",
    "lb_url"
   ]
  },
  {
   "cell_type": "code",
   "execution_count": 34,
   "id": "d0e943c7",
   "metadata": {},
   "outputs": [],
   "source": [
    "URL = f'http://{lb_url}/admin/login/?next=/admin/'"
   ]
  },
  {
   "cell_type": "code",
   "execution_count": 35,
   "id": "cc53d421",
   "metadata": {},
   "outputs": [
    {
     "data": {
      "text/plain": [
       "'http://Elb3-1698200571.us-east-1.elb.amazonaws.com/admin/login/?next=/admin/'"
      ]
     },
     "execution_count": 35,
     "metadata": {},
     "output_type": "execute_result"
    }
   ],
   "source": [
    "URL"
   ]
  },
  {
   "cell_type": "code",
   "execution_count": 47,
   "id": "08b4d267",
   "metadata": {},
   "outputs": [
    {
     "name": "stdout",
     "output_type": "stream",
     "text": [
      "{'sessionid': 'hj1u3ysnuafvmvz8c02f1yxze0fftsez'}\n"
     ]
    }
   ],
   "source": [
    "client = requests.session()\n",
    "\n",
    "client.get(URL) \n",
    "\n",
    "csrftoken = client.cookies['csrftoken']\n",
    "\n",
    "    \n",
    "login_data = dict(username='cloud', password='cloud', csrfmiddlewaretoken=csrftoken, next='/admin/')\n",
    "r = client.post(URL, data=login_data, headers=dict(Referer=URL))\n",
    "cookies = dict(sessionid=client.cookies.get('sessionid'))\n",
    "print(cookies)"
   ]
  },
  {
   "cell_type": "code",
   "execution_count": 55,
   "id": "7e36ac87",
   "metadata": {},
   "outputs": [],
   "source": [
    "URL_add_user = f\"http://{lb_url}/admin/auth/user/add/\"\n",
    "URL_add_group = f\"http://{lb_url}/admin/auth/group/add/\""
   ]
  },
  {
   "cell_type": "code",
   "execution_count": 57,
   "id": "4f32523b",
   "metadata": {},
   "outputs": [],
   "source": [
    "def add_user(URL, username, password1, password2,cookies):\n",
    "    client = requests.session()\n",
    "    client.get(URL)  # sets cookie\n",
    "    csrftoken = client.cookies['csrftoken']\n",
    "    post_data = dict(csrfmiddlewaretoken=csrftoken, username=username, password1=password1,\n",
    "                     password2 =password2, _save = \"Save\")\n",
    "    r2 = client.post(URL, data=post_data, headers=dict(Referer=URL), cookies = cookies)\n",
    "    return r2\n",
    "    "
   ]
  },
  {
   "cell_type": "code",
   "execution_count": 52,
   "id": "64fbb557",
   "metadata": {},
   "outputs": [],
   "source": [
    "def delete_user(user_id, cookies):\n",
    "    URL_delete = f\"http://{lb_url}/admin/auth/user/{user_id}/delete/\"\n",
    "    client = requests.session()\n",
    "    client.get(URL_delete)  # sets cookie\n",
    "    csrftoken = client.cookies['csrftoken']\n",
    "    post_data = dict(csrfmiddlewaretoken=csrftoken,post = \"yes\")\n",
    "    r2 = client.post(URL_delete, data=post_data, headers=dict(Referer=URL_delete), cookies = cookies)\n",
    "    return r2"
   ]
  },
  {
   "cell_type": "code",
   "execution_count": 60,
   "id": "bea6aac2",
   "metadata": {},
   "outputs": [],
   "source": [
    "def add_group(URL, groupname ,cookies):\n",
    "    client = requests.session()\n",
    "    client.get(URL)  # sets cookie\n",
    "    csrftoken = client.cookies['csrftoken']\n",
    "    post_data = dict(csrfmiddlewaretoken=csrftoken, name=groupname, _save = \"Save\")\n",
    "    r2 = client.post(URL, data=post_data, headers=dict(Referer=URL), cookies = cookies)\n",
    "    return r2"
   ]
  },
  {
   "cell_type": "code",
   "execution_count": 62,
   "id": "2c46a1af",
   "metadata": {},
   "outputs": [],
   "source": [
    "def delete_group(group_id, cookies):\n",
    "    URL_delete = f\"http://{lb_url}/admin/auth/group/{group_id}/delete/\"\n",
    "    client = requests.session()\n",
    "    client.get(URL_delete)  # sets cookie\n",
    "    csrftoken = client.cookies['csrftoken']\n",
    "    post_data = dict(csrfmiddlewaretoken=csrftoken,post = \"yes\")\n",
    "    r2 = client.post(URL_delete, data=post_data, headers=dict(Referer=URL_delete), cookies = cookies)\n",
    "    return r2"
   ]
  },
  {
   "cell_type": "code",
   "execution_count": 58,
   "id": "73cb2e9d",
   "metadata": {
    "scrolled": true
   },
   "outputs": [
    {
     "data": {
      "text/plain": [
       "<Response [200]>"
      ]
     },
     "execution_count": 58,
     "metadata": {},
     "output_type": "execute_result"
    }
   ],
   "source": [
    "add_user(URL_add_user, 'Joao4', 'Banana888', 'Banana888', cookies)"
   ]
  },
  {
   "cell_type": "code",
   "execution_count": 59,
   "id": "1eff23cb",
   "metadata": {},
   "outputs": [
    {
     "data": {
      "text/plain": [
       "<Response [200]>"
      ]
     },
     "execution_count": 59,
     "metadata": {},
     "output_type": "execute_result"
    }
   ],
   "source": [
    "delete_user(4, cookies)"
   ]
  },
  {
   "cell_type": "code",
   "execution_count": 61,
   "id": "d7f064d7",
   "metadata": {},
   "outputs": [
    {
     "data": {
      "text/plain": [
       "<Response [200]>"
      ]
     },
     "execution_count": 61,
     "metadata": {},
     "output_type": "execute_result"
    }
   ],
   "source": [
    "add_group(URL_add_group, 'GroupJoao', cookies)"
   ]
  },
  {
   "cell_type": "code",
   "execution_count": 63,
   "id": "e0f6ddd0",
   "metadata": {},
   "outputs": [
    {
     "data": {
      "text/plain": [
       "<Response [200]>"
      ]
     },
     "execution_count": 63,
     "metadata": {},
     "output_type": "execute_result"
    }
   ],
   "source": [
    "delete_group(1, cookies)"
   ]
  },
  {
   "cell_type": "code",
   "execution_count": 67,
   "id": "b95c4811",
   "metadata": {},
   "outputs": [
    {
     "data": {
      "text/plain": [
       "{'ResponseMetadata': {'RequestId': '16d81470-30a5-437e-a6fc-198437f469be',\n",
       "  'HTTPStatusCode': 200,\n",
       "  'HTTPHeaders': {'x-amzn-requestid': '16d81470-30a5-437e-a6fc-198437f469be',\n",
       "   'cache-control': 'no-cache, no-store',\n",
       "   'strict-transport-security': 'max-age=31536000; includeSubDomains',\n",
       "   'content-type': 'text/xml;charset=UTF-8',\n",
       "   'content-length': '239',\n",
       "   'date': 'Tue, 23 Nov 2021 17:21:15 GMT',\n",
       "   'server': 'AmazonEC2'},\n",
       "  'RetryAttempts': 0}}"
      ]
     },
     "execution_count": 67,
     "metadata": {},
     "output_type": "execute_result"
    }
   ],
   "source": [
    "### DELETE ALL\n",
    "##OHIO\n",
    "instance_ohio[0].terminate()\n",
    "security_group.delete()"
   ]
  },
  {
   "cell_type": "code",
   "execution_count": 70,
   "id": "821971b1",
   "metadata": {},
   "outputs": [
    {
     "data": {
      "text/plain": [
       "{'ResponseMetadata': {'RequestId': '859ca9a7-f1aa-400e-866a-ffb14148f382',\n",
       "  'HTTPStatusCode': 200,\n",
       "  'HTTPHeaders': {'x-amzn-requestid': '859ca9a7-f1aa-400e-866a-ffb14148f382',\n",
       "   'content-type': 'text/xml',\n",
       "   'content-length': '231',\n",
       "   'date': 'Tue, 23 Nov 2021 17:25:06 GMT'},\n",
       "  'RetryAttempts': 0}}"
      ]
     },
     "execution_count": 70,
     "metadata": {},
     "output_type": "execute_result"
    }
   ],
   "source": [
    "##NORTH VIRGINIA\n",
    "autoscaling.delete_auto_scaling_group(AutoScalingGroupName ='AutoScalingV1', ForceDelete = True)"
   ]
  },
  {
   "cell_type": "code",
   "execution_count": 72,
   "id": "fb3b9628",
   "metadata": {},
   "outputs": [
    {
     "data": {
      "text/plain": [
       "{'ResponseMetadata': {'RequestId': 'e98376ec-e257-4420-9281-51f8976f91c1',\n",
       "  'HTTPStatusCode': 200,\n",
       "  'HTTPHeaders': {'x-amzn-requestid': 'e98376ec-e257-4420-9281-51f8976f91c1',\n",
       "   'cache-control': 'no-cache, no-store',\n",
       "   'strict-transport-security': 'max-age=31536000; includeSubDomains',\n",
       "   'content-type': 'text/xml;charset=UTF-8',\n",
       "   'content-length': '231',\n",
       "   'date': 'Tue, 23 Nov 2021 17:26:32 GMT',\n",
       "   'server': 'AmazonEC2'},\n",
       "  'RetryAttempts': 0}}"
      ]
     },
     "execution_count": 72,
     "metadata": {},
     "output_type": "execute_result"
    }
   ],
   "source": [
    "django_img.deregister()"
   ]
  },
  {
   "cell_type": "code",
   "execution_count": 76,
   "id": "cb26aaf0",
   "metadata": {},
   "outputs": [
    {
     "data": {
      "text/plain": [
       "{'ResponseMetadata': {'RequestId': '5f0901c7-8cef-48d4-94cd-262bff03f580',\n",
       "  'HTTPStatusCode': 200,\n",
       "  'HTTPHeaders': {'x-amzn-requestid': '5f0901c7-8cef-48d4-94cd-262bff03f580',\n",
       "   'content-type': 'text/xml',\n",
       "   'content-length': '262',\n",
       "   'date': 'Tue, 23 Nov 2021 17:30:12 GMT'},\n",
       "  'RetryAttempts': 0}}"
      ]
     },
     "execution_count": 76,
     "metadata": {},
     "output_type": "execute_result"
    }
   ],
   "source": [
    "elb.delete_load_balancer(LoadBalancerArn= lb_arn)"
   ]
  },
  {
   "cell_type": "code",
   "execution_count": 78,
   "id": "07ad1670",
   "metadata": {},
   "outputs": [
    {
     "data": {
      "text/plain": [
       "{'ResponseMetadata': {'RequestId': '51e4ab2b-2716-4579-8c52-f63f613b1762',\n",
       "  'HTTPStatusCode': 200,\n",
       "  'HTTPHeaders': {'x-amzn-requestid': '51e4ab2b-2716-4579-8c52-f63f613b1762',\n",
       "   'content-type': 'text/xml',\n",
       "   'content-length': '259',\n",
       "   'date': 'Tue, 23 Nov 2021 17:32:12 GMT'},\n",
       "  'RetryAttempts': 0}}"
      ]
     },
     "execution_count": 78,
     "metadata": {},
     "output_type": "execute_result"
    }
   ],
   "source": [
    "elb.delete_target_group(TargetGroupArn= tg_arn)"
   ]
  },
  {
   "cell_type": "code",
   "execution_count": 80,
   "id": "f1f1b718",
   "metadata": {},
   "outputs": [
    {
     "data": {
      "text/plain": [
       "{'ResponseMetadata': {'RequestId': 'a8078b28-1b28-4454-beeb-c5ac312202de',\n",
       "  'HTTPStatusCode': 200,\n",
       "  'HTTPHeaders': {'x-amzn-requestid': 'a8078b28-1b28-4454-beeb-c5ac312202de',\n",
       "   'content-type': 'text/xml',\n",
       "   'content-length': '237',\n",
       "   'date': 'Tue, 23 Nov 2021 17:33:58 GMT'},\n",
       "  'RetryAttempts': 0}}"
      ]
     },
     "execution_count": 80,
     "metadata": {},
     "output_type": "execute_result"
    }
   ],
   "source": [
    "autoscaling.delete_launch_configuration(LaunchConfigurationName ='LCV999')"
   ]
  },
  {
   "cell_type": "code",
   "execution_count": 81,
   "id": "73c2385a",
   "metadata": {},
   "outputs": [
    {
     "data": {
      "text/plain": [
       "{'ResponseMetadata': {'RequestId': '03166fa3-6678-4911-8244-e4b91bba8e35',\n",
       "  'HTTPStatusCode': 200,\n",
       "  'HTTPHeaders': {'x-amzn-requestid': '03166fa3-6678-4911-8244-e4b91bba8e35',\n",
       "   'cache-control': 'no-cache, no-store',\n",
       "   'strict-transport-security': 'max-age=31536000; includeSubDomains',\n",
       "   'content-type': 'text/xml;charset=UTF-8',\n",
       "   'content-length': '239',\n",
       "   'date': 'Tue, 23 Nov 2021 17:34:03 GMT',\n",
       "   'server': 'AmazonEC2'},\n",
       "  'RetryAttempts': 0}}"
      ]
     },
     "execution_count": 81,
     "metadata": {},
     "output_type": "execute_result"
    }
   ],
   "source": [
    "security_group2.delete()"
   ]
  },
  {
   "cell_type": "code",
   "execution_count": null,
   "id": "9f00693d",
   "metadata": {},
   "outputs": [],
   "source": []
  }
 ],
 "metadata": {
  "kernelspec": {
   "display_name": "Python 3 (ipykernel)",
   "language": "python",
   "name": "python3"
  },
  "language_info": {
   "codemirror_mode": {
    "name": "ipython",
    "version": 3
   },
   "file_extension": ".py",
   "mimetype": "text/x-python",
   "name": "python",
   "nbconvert_exporter": "python",
   "pygments_lexer": "ipython3",
   "version": "3.7.1"
  }
 },
 "nbformat": 4,
 "nbformat_minor": 5
}
