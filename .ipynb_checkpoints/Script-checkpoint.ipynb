{
 "cells": [
  {
   "cell_type": "code",
   "execution_count": 14,
   "id": "f5ec7e74",
   "metadata": {},
   "outputs": [],
   "source": [
    "import boto3\n",
    "from botocore.config import Config\n",
    "import sys\n",
    "import os\n",
    "\n"
   ]
  },
  {
   "cell_type": "code",
   "execution_count": 15,
   "id": "c4195733",
   "metadata": {},
   "outputs": [],
   "source": [
    "ohio_region  = Config(region_name=\"us-east-2\")\n",
    "north_virginia_region  = Config(region_name=\"us-east-1\")"
   ]
  },
  {
   "cell_type": "code",
   "execution_count": 16,
   "id": "7f45f36d",
   "metadata": {},
   "outputs": [],
   "source": [
    "ohio_ec2 = boto3.resource('ec2', config=ohio_region)\n",
    "north_virginia_ec2 = boto3.resource('ec2', config=north_virginia_region)"
   ]
  },
  {
   "cell_type": "code",
   "execution_count": 17,
   "id": "a4602704",
   "metadata": {},
   "outputs": [],
   "source": [
    "script_postgres = '''#!/bin/bash\n",
    "sudo apt update\n",
    "sudo apt install postgresql postgresql-contrib -y\n",
    "sudo -i -u postgres bash << EOF\n",
    "createuser -s cloud -W\n",
    "cloud\n",
    "createdb -O cloud tasks\n",
    "echo \"listen_addresses = '*'\" >>  /etc/postgresql/12/main/postgresql.conf\n",
    "echo \"host all all 0.0.0.0/0 trust\" >> /etc/postgresql/12/main/pg_hba.conf\n",
    "EOF\n",
    "sudo ufw allow 5432/tcp\n",
    "sudo systemctl restart postgresql'''\n",
    "\n"
   ]
  },
  {
   "cell_type": "code",
   "execution_count": 18,
   "id": "fdc2cafc",
   "metadata": {},
   "outputs": [],
   "source": [
    "script_mysql = '''#!/bin/bash\n",
    "sudo apt update\n",
    "sudo apt install mysql-server -y\n",
    "sudo mysql -uroot -e \"ALTER USER 'root'@'localhost' IDENTIFIED WITH mysql_native_password BY 'cloud';CREATE USER 'root'@'%' IDENTIFIED BY 'cloud';GRANT ALL PRIVILEGES ON *.* TO 'root'@'%';FLUSH PRIVILEGES;CREATE DATABASE tasks;\"\n",
    "sudo sed -i 's/bind-address/#banana/g' /etc/mysql/mysql.conf.d/mysqld.cnf\n",
    "sudo sed -i 's/mysqlx/#banana/g' /etc/mysql/mysql.conf.d/mysqld.cnf\n",
    "sudo ufw allow 3306/tcp\n",
    "sudo systemctl restart mysql\n",
    "'''\n"
   ]
  },
  {
   "cell_type": "code",
   "execution_count": 19,
   "id": "c3c1c120",
   "metadata": {},
   "outputs": [],
   "source": [
    "security_group_iterator = ohio_ec2.security_groups.all()"
   ]
  },
  {
   "cell_type": "code",
   "execution_count": 20,
   "id": "594b90d4",
   "metadata": {},
   "outputs": [],
   "source": [
    "# security_group = ohio_ec2.create_security_group(\n",
    "#     Description='string',\n",
    "#     GroupName='SecurityGroup4',\n",
    "#     TagSpecifications=[\n",
    "#         {\n",
    "#             'ResourceType': 'security-group',\n",
    "#             'Tags': [\n",
    "#                 {\n",
    "#                     'Key': 'Name',\n",
    "#                     'Value': 'postgres'\n",
    "#                 },\n",
    "#             ]\n",
    "#         },\n",
    "#     ],\n",
    "# )\n",
    "\n",
    "\n",
    "\n",
    "\n",
    "# security_group.authorize_ingress(IpProtocol=\"tcp\",CidrIp=\"0.0.0.0/0\",FromPort=0,ToPort=10000)\n",
    "\n",
    "# security_group2 = north_virginia_ec2.create_security_group(\n",
    "#     Description='string',\n",
    "#     GroupName='SecurityGroup4',\n",
    "#     TagSpecifications=[\n",
    "#         {\n",
    "#             'ResourceType': 'security-group',\n",
    "#             'Tags': [\n",
    "#                 {\n",
    "#                     'Key': 'Name',\n",
    "#                     'Value': 'postgres'\n",
    "#                 },\n",
    "#             ]\n",
    "#         },\n",
    "#     ],\n",
    "# )\n",
    "\n",
    "\n",
    "\n",
    "\n",
    "# security_group2.authorize_ingress(IpProtocol=\"tcp\",CidrIp=\"0.0.0.0/0\",FromPort=0,ToPort=10000)\n"
   ]
  },
  {
   "cell_type": "code",
   "execution_count": 21,
   "id": "b7e1bc14",
   "metadata": {},
   "outputs": [],
   "source": [
    "instance_ohio = ohio_ec2.create_instances(\n",
    "        ImageId=\"ami-00399ec92321828f5\",\n",
    "        MinCount=1,\n",
    "        MaxCount=1,\n",
    "        InstanceType=\"t2.micro\",\n",
    "        KeyName=\"jpgianfaldoni\",\n",
    "        SecurityGroupIds = [security_group.group_id],\n",
    "        UserData = script_mysql\n",
    "    )\n",
    "\n"
   ]
  },
  {
   "cell_type": "code",
   "execution_count": 22,
   "id": "98b3a48e",
   "metadata": {},
   "outputs": [],
   "source": [
    "instance_ohio[0].wait_until_running()\n",
    "instance_ohio[0].reload()\n",
    "public_ip_postgres = instance_ohio[0].public_ip_address\n"
   ]
  },
  {
   "cell_type": "code",
   "execution_count": 23,
   "id": "9e013b78",
   "metadata": {},
   "outputs": [
    {
     "name": "stdout",
     "output_type": "stream",
     "text": [
      "3.16.47.7\n"
     ]
    }
   ],
   "source": [
    "print(public_ip_postgres)"
   ]
  },
  {
   "cell_type": "code",
   "execution_count": 24,
   "id": "53ff218a",
   "metadata": {},
   "outputs": [],
   "source": [
    "script_django_postgres = f'''#!/bin/bash\n",
    "sudo apt update\n",
    "git clone https://github.com/raulikeda/tasks.git\n",
    "cd tasks\n",
    "sudo sed -i 's/node1/{public_ip_postgres}/g' portfolio/settings.py\n",
    "./install.sh\n",
    "sudo reboot\n",
    "'''"
   ]
  },
  {
   "cell_type": "code",
   "execution_count": 25,
   "id": "3bb3ce14",
   "metadata": {},
   "outputs": [],
   "source": [
    "script_django_mysql = f\"\"\"#!/bin/bash\n",
    "cd /home/ubuntu\n",
    "sudo apt update\n",
    "sudo apt-get install python3-dev default-libmysqlclient-dev build-essential -y\n",
    "git clone https://github.com/raulikeda/tasks.git\n",
    "cd tasks\n",
    "sudo sed -i 's/node1/{public_ip_postgres}/g' portfolio/settings.py\n",
    "sudo sed -i 's/django.db.backends.postgresql/django.db.backends.mysql/g' portfolio/settings.py\n",
    "sudo sed -i 's/5432/3306/g' portfolio/settings.py\n",
    "sudo sed -i \"s/'USER': 'cloud'/'USER': 'root'/g\" portfolio/settings.py\n",
    "echo \"mysqlclient\" >> requirements.txt\n",
    "./install.sh\n",
    "sudo reboot \n",
    "\"\"\""
   ]
  },
  {
   "cell_type": "code",
   "execution_count": 26,
   "id": "a6da6897",
   "metadata": {},
   "outputs": [],
   "source": [
    "north_virginia = north_virginia_ec2.create_instances(\n",
    "        ImageId=\"ami-09e67e426f25ce0d7\",\n",
    "        MinCount=1,\n",
    "        MaxCount=1,\n",
    "        InstanceType=\"t2.micro\",\n",
    "        KeyName=\"jpgianfaldoni\",\n",
    "        SecurityGroupIds = [security_group2.group_id],\n",
    "        UserData = script_django_mysql\n",
    "    )"
   ]
  },
  {
   "cell_type": "code",
   "execution_count": null,
   "id": "69da7721",
   "metadata": {},
   "outputs": [],
   "source": []
  },
  {
   "cell_type": "code",
   "execution_count": null,
   "id": "922ccedc",
   "metadata": {},
   "outputs": [],
   "source": []
  },
  {
   "cell_type": "code",
   "execution_count": null,
   "id": "89623732",
   "metadata": {},
   "outputs": [],
   "source": []
  }
 ],
 "metadata": {
  "kernelspec": {
   "display_name": "Python 3 (ipykernel)",
   "language": "python",
   "name": "python3"
  },
  "language_info": {
   "codemirror_mode": {
    "name": "ipython",
    "version": 3
   },
   "file_extension": ".py",
   "mimetype": "text/x-python",
   "name": "python",
   "nbconvert_exporter": "python",
   "pygments_lexer": "ipython3",
   "version": "3.7.1"
  }
 },
 "nbformat": 4,
 "nbformat_minor": 5
}
